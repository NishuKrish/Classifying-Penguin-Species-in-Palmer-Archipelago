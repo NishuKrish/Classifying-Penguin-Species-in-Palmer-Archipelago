{
 "cells": [
  {
   "cell_type": "markdown",
   "metadata": {
    "cell_id": "a27e617c-e7b4-440f-8643-f31d76fa0d35",
    "deepnote_cell_height": 123.5625,
    "deepnote_cell_type": "markdown"
   },
   "source": [
    "# PIC 16A Penguin Species Classification Project "
   ]
  },
  {
   "cell_type": "markdown",
   "metadata": {
    "cell_id": "00001-98f98b99-0d89-4317-a3f7-d4cc770ff913",
    "deepnote_cell_height": 74.765625,
    "deepnote_cell_type": "markdown"
   },
   "source": [
    "By: Nishaanth Krishnan"
   ]
  },
  {
   "cell_type": "markdown",
   "metadata": {
    "cell_id": "00002-9486319b-658b-48d8-9f02-16e8fdd2bfc0",
    "deepnote_cell_height": 82.765625,
    "deepnote_cell_type": "markdown"
   },
   "source": [
    "## Section 0: Group Contributions Statement"
   ]
  },
  {
   "cell_type": "markdown",
   "metadata": {
    "cell_id": "00003-9b47a497-12b2-4794-bca9-a9bd2894080c",
    "deepnote_cell_height": 410.765625,
    "deepnote_cell_type": "markdown"
   },
   "source": [
    "All of us worked on cleaning the data. YuChen led Figure 1, Nishaanth led Figure 2, and Feng led Figure 3.  Nishaanth led the random forest model, YuChen led the Support Vector Machine model, and Feng led the K-Nearest Neighbors model. YuChen wrote the explanation of the figures, Nishaanth wrote the explanation of the first model and the discussion, and Feng wrote the explanation of the last two models. We worked on the automated feature selection and the functions to help us with modeling (Part 0) together. All three of us checked and revised each other's code and explanations for quality purposes. Everyone worked well during the project, and we felt that everyone was making good contributions. "
   ]
  },
  {
   "cell_type": "markdown",
   "metadata": {
    "cell_id": "00004-c4355477-824f-4273-b4bf-5ff83d623c56",
    "deepnote_cell_height": 82.765625,
    "deepnote_cell_type": "markdown"
   },
   "source": [
    "## Section 1: Importing and Cleaning the Data"
   ]
  },
  {
   "cell_type": "code",
   "execution_count": 191,
   "metadata": {
    "cell_id": "bdd6d253-54a7-47c5-9a0a-346fb56287ae",
    "deepnote_cell_height": 333,
    "deepnote_cell_type": "code",
    "deepnote_to_be_reexecuted": false,
    "execution_millis": 2801,
    "execution_start": 1646806003167,
    "id": "4l4kCMVgPY02",
    "source_hash": "7b3be18d"
   },
   "outputs": [],
   "source": [
    "# all of the neccesary libraries to be used\n",
    "import pandas as pd\n",
    "from matplotlib import pyplot as plt\n",
    "import numpy as np\n",
    "import seaborn as sns\n",
    "from sklearn.model_selection import train_test_split\n",
    "from sklearn import preprocessing\n",
    "from sklearn.model_selection import cross_val_score\n",
    "from sklearn import preprocessing\n",
    "from sklearn.neighbors import KNeighborsClassifier\n",
    "from sklearn.metrics import confusion_matrix\n",
    "from sklearn import svm\n",
    "from sklearn.metrics import confusion_matrix\n",
    "from sklearn.ensemble import RandomForestClassifier\n",
    "from sklearn import preprocessing\n",
    "import matplotlib.patches as mpatches\n",
    "import warnings\n",
    "warnings.filterwarnings('ignore')"
   ]
  },
  {
   "cell_type": "markdown",
   "metadata": {
    "cell_id": "00001-003b333d-e66e-4d38-87b0-1a6d6a80e383",
    "deepnote_cell_height": 142,
    "deepnote_cell_type": "markdown",
    "id": "BE3KUllW_t4X"
   },
   "source": [
    "Our first task is to import the data from the website and to split it into training and testing datasets in order to prevent \n",
    "the testing dataset from being interfered and polluted with. "
   ]
  },
  {
   "cell_type": "code",
   "execution_count": 192,
   "metadata": {
    "cell_id": "00003-39e5994e-9021-4770-9bc1-f60f035e15bc",
    "colab": {
     "base_uri": "https://localhost:8080/"
    },
    "deepnote_cell_height": 171,
    "deepnote_cell_type": "code",
    "deepnote_to_be_reexecuted": false,
    "execution_millis": 99,
    "execution_start": 1646806005978,
    "id": "wmdDrHW0QJsv",
    "outputId": "4f9f0df0-615f-46f4-8b6c-1699608d585e",
    "source_hash": "45b7d2e3"
   },
   "outputs": [],
   "source": [
    "url = 'https://philchodrow.github.io/PIC16A/datasets/palmer_penguins.csv'\n",
    "penguins = pd.read_csv(url)\n",
    "# ensure reproducibility\n",
    "np.random.seed(12345)\n",
    "# splitting the data, with 20 percent of it being used for the testing\n",
    "train,test=train_test_split(penguins,test_size=0.20, random_state = 12345)"
   ]
  },
  {
   "cell_type": "code",
   "execution_count": 193,
   "metadata": {
    "cell_id": "00004-56750b63-6719-444a-a0d6-ff99cb30030f",
    "colab": {
     "base_uri": "https://localhost:8080/",
     "height": 518
    },
    "deepnote_cell_height": 358.796875,
    "deepnote_cell_type": "code",
    "deepnote_to_be_reexecuted": false,
    "execution_millis": 180,
    "execution_start": 1646806006110,
    "id": "GXuSlIhxJmhR",
    "outputId": "0b1d552d-ff14-4327-fc06-519fdc929fbd",
    "source_hash": "85e2a909"
   },
   "outputs": [
    {
     "data": {
      "text/html": [
       "<div>\n",
       "<style scoped>\n",
       "    .dataframe tbody tr th:only-of-type {\n",
       "        vertical-align: middle;\n",
       "    }\n",
       "\n",
       "    .dataframe tbody tr th {\n",
       "        vertical-align: top;\n",
       "    }\n",
       "\n",
       "    .dataframe thead th {\n",
       "        text-align: right;\n",
       "    }\n",
       "</style>\n",
       "<table border=\"1\" class=\"dataframe\">\n",
       "  <thead>\n",
       "    <tr style=\"text-align: right;\">\n",
       "      <th></th>\n",
       "      <th>studyName</th>\n",
       "      <th>Sample Number</th>\n",
       "      <th>Species</th>\n",
       "      <th>Region</th>\n",
       "      <th>Island</th>\n",
       "      <th>Stage</th>\n",
       "      <th>Individual ID</th>\n",
       "      <th>Clutch Completion</th>\n",
       "      <th>Date Egg</th>\n",
       "      <th>Culmen Length (mm)</th>\n",
       "      <th>Culmen Depth (mm)</th>\n",
       "      <th>Flipper Length (mm)</th>\n",
       "      <th>Body Mass (g)</th>\n",
       "      <th>Sex</th>\n",
       "      <th>Delta 15 N (o/oo)</th>\n",
       "      <th>Delta 13 C (o/oo)</th>\n",
       "      <th>Comments</th>\n",
       "    </tr>\n",
       "  </thead>\n",
       "  <tbody>\n",
       "    <tr>\n",
       "      <th>0</th>\n",
       "      <td>PAL0708</td>\n",
       "      <td>1</td>\n",
       "      <td>Adelie Penguin (Pygoscelis adeliae)</td>\n",
       "      <td>Anvers</td>\n",
       "      <td>Torgersen</td>\n",
       "      <td>Adult, 1 Egg Stage</td>\n",
       "      <td>N1A1</td>\n",
       "      <td>Yes</td>\n",
       "      <td>11/11/07</td>\n",
       "      <td>39.1</td>\n",
       "      <td>18.7</td>\n",
       "      <td>181.0</td>\n",
       "      <td>3750.0</td>\n",
       "      <td>MALE</td>\n",
       "      <td>NaN</td>\n",
       "      <td>NaN</td>\n",
       "      <td>Not enough blood for isotopes.</td>\n",
       "    </tr>\n",
       "    <tr>\n",
       "      <th>1</th>\n",
       "      <td>PAL0708</td>\n",
       "      <td>2</td>\n",
       "      <td>Adelie Penguin (Pygoscelis adeliae)</td>\n",
       "      <td>Anvers</td>\n",
       "      <td>Torgersen</td>\n",
       "      <td>Adult, 1 Egg Stage</td>\n",
       "      <td>N1A2</td>\n",
       "      <td>Yes</td>\n",
       "      <td>11/11/07</td>\n",
       "      <td>39.5</td>\n",
       "      <td>17.4</td>\n",
       "      <td>186.0</td>\n",
       "      <td>3800.0</td>\n",
       "      <td>FEMALE</td>\n",
       "      <td>8.94956</td>\n",
       "      <td>-24.69454</td>\n",
       "      <td>NaN</td>\n",
       "    </tr>\n",
       "    <tr>\n",
       "      <th>2</th>\n",
       "      <td>PAL0708</td>\n",
       "      <td>3</td>\n",
       "      <td>Adelie Penguin (Pygoscelis adeliae)</td>\n",
       "      <td>Anvers</td>\n",
       "      <td>Torgersen</td>\n",
       "      <td>Adult, 1 Egg Stage</td>\n",
       "      <td>N2A1</td>\n",
       "      <td>Yes</td>\n",
       "      <td>11/16/07</td>\n",
       "      <td>40.3</td>\n",
       "      <td>18.0</td>\n",
       "      <td>195.0</td>\n",
       "      <td>3250.0</td>\n",
       "      <td>FEMALE</td>\n",
       "      <td>8.36821</td>\n",
       "      <td>-25.33302</td>\n",
       "      <td>NaN</td>\n",
       "    </tr>\n",
       "    <tr>\n",
       "      <th>3</th>\n",
       "      <td>PAL0708</td>\n",
       "      <td>4</td>\n",
       "      <td>Adelie Penguin (Pygoscelis adeliae)</td>\n",
       "      <td>Anvers</td>\n",
       "      <td>Torgersen</td>\n",
       "      <td>Adult, 1 Egg Stage</td>\n",
       "      <td>N2A2</td>\n",
       "      <td>Yes</td>\n",
       "      <td>11/16/07</td>\n",
       "      <td>NaN</td>\n",
       "      <td>NaN</td>\n",
       "      <td>NaN</td>\n",
       "      <td>NaN</td>\n",
       "      <td>NaN</td>\n",
       "      <td>NaN</td>\n",
       "      <td>NaN</td>\n",
       "      <td>Adult not sampled.</td>\n",
       "    </tr>\n",
       "    <tr>\n",
       "      <th>4</th>\n",
       "      <td>PAL0708</td>\n",
       "      <td>5</td>\n",
       "      <td>Adelie Penguin (Pygoscelis adeliae)</td>\n",
       "      <td>Anvers</td>\n",
       "      <td>Torgersen</td>\n",
       "      <td>Adult, 1 Egg Stage</td>\n",
       "      <td>N3A1</td>\n",
       "      <td>Yes</td>\n",
       "      <td>11/16/07</td>\n",
       "      <td>36.7</td>\n",
       "      <td>19.3</td>\n",
       "      <td>193.0</td>\n",
       "      <td>3450.0</td>\n",
       "      <td>FEMALE</td>\n",
       "      <td>8.76651</td>\n",
       "      <td>-25.32426</td>\n",
       "      <td>NaN</td>\n",
       "    </tr>\n",
       "  </tbody>\n",
       "</table>\n",
       "</div>"
      ],
      "text/plain": [
       "  studyName  Sample Number                              Species  Region  \\\n",
       "0   PAL0708              1  Adelie Penguin (Pygoscelis adeliae)  Anvers   \n",
       "1   PAL0708              2  Adelie Penguin (Pygoscelis adeliae)  Anvers   \n",
       "2   PAL0708              3  Adelie Penguin (Pygoscelis adeliae)  Anvers   \n",
       "3   PAL0708              4  Adelie Penguin (Pygoscelis adeliae)  Anvers   \n",
       "4   PAL0708              5  Adelie Penguin (Pygoscelis adeliae)  Anvers   \n",
       "\n",
       "      Island               Stage Individual ID Clutch Completion  Date Egg  \\\n",
       "0  Torgersen  Adult, 1 Egg Stage          N1A1               Yes  11/11/07   \n",
       "1  Torgersen  Adult, 1 Egg Stage          N1A2               Yes  11/11/07   \n",
       "2  Torgersen  Adult, 1 Egg Stage          N2A1               Yes  11/16/07   \n",
       "3  Torgersen  Adult, 1 Egg Stage          N2A2               Yes  11/16/07   \n",
       "4  Torgersen  Adult, 1 Egg Stage          N3A1               Yes  11/16/07   \n",
       "\n",
       "   Culmen Length (mm)  Culmen Depth (mm)  Flipper Length (mm)  Body Mass (g)  \\\n",
       "0                39.1               18.7                181.0         3750.0   \n",
       "1                39.5               17.4                186.0         3800.0   \n",
       "2                40.3               18.0                195.0         3250.0   \n",
       "3                 NaN                NaN                  NaN            NaN   \n",
       "4                36.7               19.3                193.0         3450.0   \n",
       "\n",
       "      Sex  Delta 15 N (o/oo)  Delta 13 C (o/oo)  \\\n",
       "0    MALE                NaN                NaN   \n",
       "1  FEMALE            8.94956          -24.69454   \n",
       "2  FEMALE            8.36821          -25.33302   \n",
       "3     NaN                NaN                NaN   \n",
       "4  FEMALE            8.76651          -25.32426   \n",
       "\n",
       "                         Comments  \n",
       "0  Not enough blood for isotopes.  \n",
       "1                             NaN  \n",
       "2                             NaN  \n",
       "3              Adult not sampled.  \n",
       "4                             NaN  "
      ]
     },
     "execution_count": 193,
     "metadata": {},
     "output_type": "execute_result"
    }
   ],
   "source": [
    "penguins.head()"
   ]
  },
  {
   "cell_type": "markdown",
   "metadata": {
    "cell_id": "00009-98ff703e-f850-4d37-8bd9-df8039ccb901",
    "deepnote_cell_height": 142,
    "deepnote_cell_type": "markdown"
   },
   "source": [
    "Our second task is to clean the data in order to make to easier to analyze the data. We created a function in order to \n",
    "avoid duplicating the same task for both the training and testing datasets. "
   ]
  },
  {
   "cell_type": "code",
   "execution_count": 194,
   "metadata": {
    "cell_id": "00005-a6e0c9b5-e980-4da3-aaf0-ff8544a6be09",
    "deepnote_cell_height": 621,
    "deepnote_cell_type": "code",
    "deepnote_to_be_reexecuted": false,
    "execution_millis": 8,
    "execution_start": 1646806006298,
    "id": "ccVWDYPpnoAN",
    "source_hash": "595435a1"
   },
   "outputs": [],
   "source": [
    "def clean_data(data):\n",
    "    \"\"\"\n",
    "    The purpose of this function is to clean\n",
    "    the penguins data, data which is a dataframe. Filters\n",
    "    out unncessary columns, eliminates penguins that are NA, \n",
    "    and shortens the species name for easier comprehension. \n",
    "    \"\"\"\n",
    "    #in order to modify a data frame inside a function we need to copy it\n",
    "    df=data.copy()\n",
    "    # filtering out uneccesary columns\n",
    "    cols = [\"Species\",  \n",
    "            \"Island\", \n",
    "            \"Culmen Length (mm)\", \n",
    "            \"Culmen Depth (mm)\", \n",
    "            \"Sex\",\n",
    "            \"Flipper Length (mm)\",\n",
    "            \"Body Mass (g)\",\n",
    "            \"Delta 15 N (o/oo)\",\n",
    "            \"Delta 13 C (o/oo)\"]\n",
    "\n",
    "    # select a subset of columns\n",
    "    df = df[cols]\n",
    "\n",
    "    # shorten the species name\n",
    "    df[\"Species\"] = df[\"Species\"].str.split().str.get(0)\n",
    "    # delete penguins with species being NA\n",
    "    df = df.dropna(subset = [\"Sex\"])\n",
    "    # dropping penguin with sex of \".\"\n",
    "    df = df[df['Sex']!='.']\n",
    "    return(df)"
   ]
  },
  {
   "cell_type": "code",
   "execution_count": 195,
   "metadata": {
    "cell_id": "00007-5acc90a8-f01f-45a8-ac20-c9adb1d011dd",
    "colab": {
     "base_uri": "https://localhost:8080/",
     "height": 322
    },
    "deepnote_cell_height": 394.796875,
    "deepnote_cell_type": "code",
    "deepnote_to_be_reexecuted": false,
    "execution_millis": 40,
    "execution_start": 1646806006357,
    "id": "gjr0aoFFnxPI",
    "outputId": "7b4368cd-bad1-4b24-957e-db3f885ff86a",
    "source_hash": "c4887e48"
   },
   "outputs": [
    {
     "data": {
      "text/html": [
       "<div>\n",
       "<style scoped>\n",
       "    .dataframe tbody tr th:only-of-type {\n",
       "        vertical-align: middle;\n",
       "    }\n",
       "\n",
       "    .dataframe tbody tr th {\n",
       "        vertical-align: top;\n",
       "    }\n",
       "\n",
       "    .dataframe thead th {\n",
       "        text-align: right;\n",
       "    }\n",
       "</style>\n",
       "<table border=\"1\" class=\"dataframe\">\n",
       "  <thead>\n",
       "    <tr style=\"text-align: right;\">\n",
       "      <th></th>\n",
       "      <th>Species</th>\n",
       "      <th>Island</th>\n",
       "      <th>Culmen Length (mm)</th>\n",
       "      <th>Culmen Depth (mm)</th>\n",
       "      <th>Sex</th>\n",
       "      <th>Flipper Length (mm)</th>\n",
       "      <th>Body Mass (g)</th>\n",
       "      <th>Delta 15 N (o/oo)</th>\n",
       "      <th>Delta 13 C (o/oo)</th>\n",
       "    </tr>\n",
       "  </thead>\n",
       "  <tbody>\n",
       "    <tr>\n",
       "      <th>154</th>\n",
       "      <td>Chinstrap</td>\n",
       "      <td>Dream</td>\n",
       "      <td>51.3</td>\n",
       "      <td>19.2</td>\n",
       "      <td>MALE</td>\n",
       "      <td>193.0</td>\n",
       "      <td>3650.0</td>\n",
       "      <td>9.29078</td>\n",
       "      <td>-24.75570</td>\n",
       "    </tr>\n",
       "    <tr>\n",
       "      <th>99</th>\n",
       "      <td>Adelie</td>\n",
       "      <td>Dream</td>\n",
       "      <td>43.2</td>\n",
       "      <td>18.5</td>\n",
       "      <td>MALE</td>\n",
       "      <td>192.0</td>\n",
       "      <td>4100.0</td>\n",
       "      <td>8.97025</td>\n",
       "      <td>-26.03679</td>\n",
       "    </tr>\n",
       "    <tr>\n",
       "      <th>254</th>\n",
       "      <td>Gentoo</td>\n",
       "      <td>Biscoe</td>\n",
       "      <td>49.1</td>\n",
       "      <td>14.8</td>\n",
       "      <td>FEMALE</td>\n",
       "      <td>220.0</td>\n",
       "      <td>5150.0</td>\n",
       "      <td>7.89744</td>\n",
       "      <td>-26.63405</td>\n",
       "    </tr>\n",
       "    <tr>\n",
       "      <th>202</th>\n",
       "      <td>Chinstrap</td>\n",
       "      <td>Dream</td>\n",
       "      <td>48.1</td>\n",
       "      <td>16.4</td>\n",
       "      <td>FEMALE</td>\n",
       "      <td>199.0</td>\n",
       "      <td>3325.0</td>\n",
       "      <td>9.46929</td>\n",
       "      <td>-24.48403</td>\n",
       "    </tr>\n",
       "    <tr>\n",
       "      <th>54</th>\n",
       "      <td>Adelie</td>\n",
       "      <td>Biscoe</td>\n",
       "      <td>34.5</td>\n",
       "      <td>18.1</td>\n",
       "      <td>FEMALE</td>\n",
       "      <td>187.0</td>\n",
       "      <td>2900.0</td>\n",
       "      <td>8.41837</td>\n",
       "      <td>-26.54718</td>\n",
       "    </tr>\n",
       "  </tbody>\n",
       "</table>\n",
       "</div>"
      ],
      "text/plain": [
       "       Species  Island  Culmen Length (mm)  Culmen Depth (mm)     Sex  \\\n",
       "154  Chinstrap   Dream                51.3               19.2    MALE   \n",
       "99      Adelie   Dream                43.2               18.5    MALE   \n",
       "254     Gentoo  Biscoe                49.1               14.8  FEMALE   \n",
       "202  Chinstrap   Dream                48.1               16.4  FEMALE   \n",
       "54      Adelie  Biscoe                34.5               18.1  FEMALE   \n",
       "\n",
       "     Flipper Length (mm)  Body Mass (g)  Delta 15 N (o/oo)  Delta 13 C (o/oo)  \n",
       "154                193.0         3650.0            9.29078          -24.75570  \n",
       "99                 192.0         4100.0            8.97025          -26.03679  \n",
       "254                220.0         5150.0            7.89744          -26.63405  \n",
       "202                199.0         3325.0            9.46929          -24.48403  \n",
       "54                 187.0         2900.0            8.41837          -26.54718  "
      ]
     },
     "execution_count": 195,
     "metadata": {},
     "output_type": "execute_result"
    }
   ],
   "source": [
    "train = clean_data(train)\n",
    "test = clean_data(test)\n",
    "train.head()"
   ]
  },
  {
   "cell_type": "markdown",
   "metadata": {
    "cell_id": "00012-4853172d-1d22-41db-a82f-8172e7c3305d",
    "deepnote_cell_height": 82.765625,
    "deepnote_cell_type": "markdown"
   },
   "source": [
    "## Section 2: Exploratory Analysis"
   ]
  },
  {
   "cell_type": "markdown",
   "metadata": {
    "cell_id": "00013-06a7f4ad-ed43-47a5-aca0-9409c7784540",
    "deepnote_cell_height": 97.1875,
    "deepnote_cell_type": "markdown"
   },
   "source": [
    "In this section, we will explore our training data and make some figures to help us gain an understanding of the data in order to determine what features could be best for classifying the species of penguin. "
   ]
  },
  {
   "cell_type": "markdown",
   "metadata": {
    "cell_id": "00014-33576c91-8c07-4b18-97e3-7865a5b11ddf",
    "deepnote_cell_height": 62,
    "deepnote_cell_type": "markdown"
   },
   "source": [
    "### Table 1"
   ]
  },
  {
   "cell_type": "markdown",
   "metadata": {
    "cell_id": "00013-5edd5687-d166-4e86-aabe-28f52419c607",
    "deepnote_cell_height": 74.765625,
    "deepnote_cell_type": "markdown"
   },
   "source": [
    "Our first task will be to create a table to look at the characteristics of each species. "
   ]
  },
  {
   "cell_type": "code",
   "execution_count": 196,
   "metadata": {
    "cell_id": "00014-cbb8d7de-23b5-4d83-a005-91607c7c443a",
    "deepnote_cell_height": 646,
    "deepnote_cell_type": "code",
    "deepnote_output_heights": [
     351
    ],
    "deepnote_to_be_reexecuted": false,
    "execution_millis": 13,
    "execution_start": 1646806006451,
    "source_hash": "ac8ee545"
   },
   "outputs": [
    {
     "data": {
      "text/html": [
       "<div>\n",
       "<style scoped>\n",
       "    .dataframe tbody tr th:only-of-type {\n",
       "        vertical-align: middle;\n",
       "    }\n",
       "\n",
       "    .dataframe tbody tr th {\n",
       "        vertical-align: top;\n",
       "    }\n",
       "\n",
       "    .dataframe thead th {\n",
       "        text-align: right;\n",
       "    }\n",
       "</style>\n",
       "<table border=\"1\" class=\"dataframe\">\n",
       "  <thead>\n",
       "    <tr style=\"text-align: right;\">\n",
       "      <th></th>\n",
       "      <th></th>\n",
       "      <th></th>\n",
       "      <th>Culmen Length (mm)</th>\n",
       "      <th>Culmen Depth (mm)</th>\n",
       "      <th>Flipper Length (mm)</th>\n",
       "      <th>Body Mass (g)</th>\n",
       "      <th>Delta 15 N (o/oo)</th>\n",
       "      <th>Delta 13 C (o/oo)</th>\n",
       "    </tr>\n",
       "    <tr>\n",
       "      <th>Species</th>\n",
       "      <th>Sex</th>\n",
       "      <th>Island</th>\n",
       "      <th></th>\n",
       "      <th></th>\n",
       "      <th></th>\n",
       "      <th></th>\n",
       "      <th></th>\n",
       "      <th></th>\n",
       "    </tr>\n",
       "  </thead>\n",
       "  <tbody>\n",
       "    <tr>\n",
       "      <th rowspan=\"6\" valign=\"top\">Adelie</th>\n",
       "      <th rowspan=\"3\" valign=\"top\">FEMALE</th>\n",
       "      <th>Biscoe</th>\n",
       "      <td>37.0</td>\n",
       "      <td>17.6</td>\n",
       "      <td>186.7</td>\n",
       "      <td>3321.7</td>\n",
       "      <td>8.8</td>\n",
       "      <td>-26.0</td>\n",
       "    </tr>\n",
       "    <tr>\n",
       "      <th>Dream</th>\n",
       "      <td>36.9</td>\n",
       "      <td>17.4</td>\n",
       "      <td>188.0</td>\n",
       "      <td>3336.4</td>\n",
       "      <td>8.8</td>\n",
       "      <td>-25.8</td>\n",
       "    </tr>\n",
       "    <tr>\n",
       "      <th>Torgersen</th>\n",
       "      <td>37.7</td>\n",
       "      <td>17.5</td>\n",
       "      <td>188.3</td>\n",
       "      <td>3419.0</td>\n",
       "      <td>8.7</td>\n",
       "      <td>-25.8</td>\n",
       "    </tr>\n",
       "    <tr>\n",
       "      <th rowspan=\"3\" valign=\"top\">MALE</th>\n",
       "      <th>Biscoe</th>\n",
       "      <td>40.7</td>\n",
       "      <td>19.0</td>\n",
       "      <td>189.7</td>\n",
       "      <td>4022.4</td>\n",
       "      <td>8.9</td>\n",
       "      <td>-25.9</td>\n",
       "    </tr>\n",
       "    <tr>\n",
       "      <th>Dream</th>\n",
       "      <td>40.2</td>\n",
       "      <td>18.7</td>\n",
       "      <td>192.1</td>\n",
       "      <td>4067.0</td>\n",
       "      <td>9.0</td>\n",
       "      <td>-25.8</td>\n",
       "    </tr>\n",
       "    <tr>\n",
       "      <th>Torgersen</th>\n",
       "      <td>40.1</td>\n",
       "      <td>19.3</td>\n",
       "      <td>194.9</td>\n",
       "      <td>4021.4</td>\n",
       "      <td>8.9</td>\n",
       "      <td>-25.9</td>\n",
       "    </tr>\n",
       "    <tr>\n",
       "      <th rowspan=\"2\" valign=\"top\">Chinstrap</th>\n",
       "      <th>FEMALE</th>\n",
       "      <th>Dream</th>\n",
       "      <td>47.1</td>\n",
       "      <td>17.6</td>\n",
       "      <td>192.2</td>\n",
       "      <td>3519.0</td>\n",
       "      <td>9.3</td>\n",
       "      <td>-24.6</td>\n",
       "    </tr>\n",
       "    <tr>\n",
       "      <th>MALE</th>\n",
       "      <th>Dream</th>\n",
       "      <td>51.0</td>\n",
       "      <td>19.2</td>\n",
       "      <td>200.0</td>\n",
       "      <td>3936.2</td>\n",
       "      <td>9.5</td>\n",
       "      <td>-24.5</td>\n",
       "    </tr>\n",
       "    <tr>\n",
       "      <th rowspan=\"2\" valign=\"top\">Gentoo</th>\n",
       "      <th>FEMALE</th>\n",
       "      <th>Biscoe</th>\n",
       "      <td>45.6</td>\n",
       "      <td>14.3</td>\n",
       "      <td>213.1</td>\n",
       "      <td>4697.0</td>\n",
       "      <td>8.2</td>\n",
       "      <td>-26.3</td>\n",
       "    </tr>\n",
       "    <tr>\n",
       "      <th>MALE</th>\n",
       "      <th>Biscoe</th>\n",
       "      <td>49.6</td>\n",
       "      <td>15.7</td>\n",
       "      <td>221.5</td>\n",
       "      <td>5488.0</td>\n",
       "      <td>8.3</td>\n",
       "      <td>-26.2</td>\n",
       "    </tr>\n",
       "  </tbody>\n",
       "</table>\n",
       "</div>"
      ],
      "text/plain": [
       "                            Culmen Length (mm)  Culmen Depth (mm)  \\\n",
       "Species   Sex    Island                                             \n",
       "Adelie    FEMALE Biscoe                   37.0               17.6   \n",
       "                 Dream                    36.9               17.4   \n",
       "                 Torgersen                37.7               17.5   \n",
       "          MALE   Biscoe                   40.7               19.0   \n",
       "                 Dream                    40.2               18.7   \n",
       "                 Torgersen                40.1               19.3   \n",
       "Chinstrap FEMALE Dream                    47.1               17.6   \n",
       "          MALE   Dream                    51.0               19.2   \n",
       "Gentoo    FEMALE Biscoe                   45.6               14.3   \n",
       "          MALE   Biscoe                   49.6               15.7   \n",
       "\n",
       "                            Flipper Length (mm)  Body Mass (g)  \\\n",
       "Species   Sex    Island                                          \n",
       "Adelie    FEMALE Biscoe                   186.7         3321.7   \n",
       "                 Dream                    188.0         3336.4   \n",
       "                 Torgersen                188.3         3419.0   \n",
       "          MALE   Biscoe                   189.7         4022.4   \n",
       "                 Dream                    192.1         4067.0   \n",
       "                 Torgersen                194.9         4021.4   \n",
       "Chinstrap FEMALE Dream                    192.2         3519.0   \n",
       "          MALE   Dream                    200.0         3936.2   \n",
       "Gentoo    FEMALE Biscoe                   213.1         4697.0   \n",
       "          MALE   Biscoe                   221.5         5488.0   \n",
       "\n",
       "                            Delta 15 N (o/oo)  Delta 13 C (o/oo)  \n",
       "Species   Sex    Island                                           \n",
       "Adelie    FEMALE Biscoe                   8.8              -26.0  \n",
       "                 Dream                    8.8              -25.8  \n",
       "                 Torgersen                8.7              -25.8  \n",
       "          MALE   Biscoe                   8.9              -25.9  \n",
       "                 Dream                    9.0              -25.8  \n",
       "                 Torgersen                8.9              -25.9  \n",
       "Chinstrap FEMALE Dream                    9.3              -24.6  \n",
       "          MALE   Dream                    9.5              -24.5  \n",
       "Gentoo    FEMALE Biscoe                   8.2              -26.3  \n",
       "          MALE   Biscoe                   8.3              -26.2  "
      ]
     },
     "execution_count": 196,
     "metadata": {},
     "output_type": "execute_result"
    }
   ],
   "source": [
    "# cleaning the original penguins dataset \n",
    "# to use for exploratory analyis\n",
    "# creating a table to look at mean feature values\n",
    "# for each species grouped by sex, which is \n",
    "# in grouped by island\n",
    "train.groupby([\"Species\", \"Sex\", \"Island\"])[[\"Culmen Length (mm)\", \n",
    "                                             \"Culmen Depth (mm)\", \n",
    "                                             \"Flipper Length (mm)\", \n",
    "                                             \"Body Mass (g)\", \n",
    "                                             \"Delta 15 N (o/oo)\", \n",
    "                                             \"Delta 13 C (o/oo)\"]].mean().round(1)"
   ]
  },
  {
   "cell_type": "markdown",
   "metadata": {
    "cell_id": "fb945713-cb38-42c0-89c8-9d30ab3836aa",
    "deepnote_cell_height": 52.390625,
    "deepnote_cell_type": "markdown",
    "tags": []
   },
   "source": [
    "This table shows mean values for features for each species, sex, and island combination of penguin. The first thing that stood out to us was that the Delta 15N and Delta 13C values seem to be very similar for all such combinations. So we think these two features may not be good choices for when we try and classify the species of penguin. The other 4 features do show some discernbility between species of penguin. Gentoo penguins seem to have a higher body mass but lower culmen depth,  and Adelie and Chinstrap penguins tend to have smaller culmen lengths and flipper lengths. These four features are the ones that we will be focusing on in our figures. "
   ]
  },
  {
   "cell_type": "markdown",
   "metadata": {
    "cell_id": "00018-8c9421d8-6742-488f-ad7e-ea7b4e2c1c9e",
    "deepnote_cell_height": 62,
    "deepnote_cell_type": "markdown"
   },
   "source": [
    "### Figure 1"
   ]
  },
  {
   "cell_type": "markdown",
   "metadata": {},
   "source": [
    "The first feature we wanted to explore was the body mass, as it seemed to us that it was the feature that could potentially\n",
    "be the best in differniating between species of penguin. "
   ]
  },
  {
   "cell_type": "code",
   "execution_count": 197,
   "metadata": {
    "cell_id": "00016-c1f569d0-553c-4ad4-8234-c4e63cfcd15d",
    "deepnote_cell_height": 555.1875,
    "deepnote_cell_type": "code",
    "deepnote_output_heights": [
     21.1875,
     280
    ],
    "deepnote_to_be_reexecuted": false,
    "execution_millis": 347,
    "execution_start": 1646806006506,
    "source_hash": "b5c6c0f6"
   },
   "outputs": [
    {
     "data": {
      "text/plain": [
       "[Text(0.5, 1.0, 'Figure 1: Penguin Body Mass')]"
      ]
     },
     "execution_count": 197,
     "metadata": {},
     "output_type": "execute_result"
    },
    {
     "data": {
      "image/png": "[encoded data removed]",
      "text/plain": [
       "<Figure size 432x288 with 1 Axes>"
      ]
     },
     "metadata": {
      "needs_background": "light"
     },
     "output_type": "display_data"
    }
   ],
   "source": [
    "# creating a scatterplot to visualize body mass\n",
    "# for each species grouped by sex\n",
    "Figure1 = sns.boxplot(data = train, \n",
    "                    x = 'Body Mass (g)', \n",
    "                    y = 'Species', \n",
    "                    hue = 'Sex', \n",
    "                    dodge = True)\n",
    "Figure1.set(title = \"Figure 1: Penguin Body Mass\")"
   ]
  },
  {
   "cell_type": "markdown",
   "metadata": {
    "cell_id": "00020-a7ef415f-14f9-48e4-8df6-cae5df844f0c",
    "deepnote_cell_height": 366,
    "deepnote_cell_type": "markdown"
   },
   "source": [
    "This box plot shows that the Gentoo Penguin has a far higher average mass than the other two penguin species for both male and female. Meanwhile, the female body mass of the Adelie and Chinstrap are relatively close, with Chinstraps having the slightly larger females than Adelie. However, the median of of the male Adelie seems to be slightly larger than male chinstraps, with the male Adelie also having a larger maximum size.  Overall, male penguins have higher body mass than females; this coupled with how \n",
    "the Gentoo penguin has a higher mass indicates that body mass is a good feature for us to predict what species of penguin a given penguin is. "
   ]
  },
  {
   "cell_type": "markdown",
   "metadata": {
    "cell_id": "00021-91c275b0-4306-45d3-a0e4-3d2197bfc3f7",
    "deepnote_cell_height": 62,
    "deepnote_cell_type": "markdown"
   },
   "source": [
    "### Figure 2"
   ]
  },
  {
   "cell_type": "markdown",
   "metadata": {
    "cell_id": "00008-656ada27-185f-4f9b-9428-e71f962668b6",
    "deepnote_cell_height": 164.375,
    "deepnote_cell_type": "markdown",
    "id": "1uTdi1DQF-VF"
   },
   "source": [
    "We will next make a visualization histogram to look at the count of penguins with \n",
    "some of the features for different species. Since the delta features seem to be too similar for all of the species of penguin, we ruled out those features for our model. "
   ]
  },
  {
   "cell_type": "code",
   "execution_count": 164,
   "metadata": {
    "cell_id": "00018-2b71b119-2753-4dbd-b1b1-ad02cb396ce5",
    "deepnote_cell_height": 1033.5,
    "deepnote_cell_type": "code",
    "deepnote_output_heights": [
     21.1875,
     308.3125
    ],
    "deepnote_to_be_reexecuted": false,
    "execution_millis": 4141,
    "execution_start": 1646806007021,
    "source_hash": "7eb514b0"
   },
   "outputs": [
    {
     "data": {
      "text/plain": [
       "<matplotlib.legend.Legend at 0x27de2425880>"
      ]
     },
     "execution_count": 164,
     "metadata": {},
     "output_type": "execute_result"
    },
    {
     "data": {
      "image/png": "[encoded data removed]",
      "text/plain": [
       "<Figure size 1080x360 with 4 Axes>"
      ]
     },
     "metadata": {
      "needs_background": "light"
     },
     "output_type": "display_data"
    }
   ],
   "source": [
    "def drawhis(df, cols):\n",
    "    \"\"\"\n",
    "    The purpose of this function is to draw a series of\n",
    "    histograms for a number of the features, and labelled\n",
    "    seperately by species. Takes in the penguins data, df, \n",
    "    and the desired cols, or list of features and plots the histograms. \n",
    "    Plots one histogram for each feature in cols with each species\n",
    "    visualized seperately. \n",
    "    \"\"\"\n",
    "    # creating 4 subplots, having them share y axis\n",
    "    fig, ax = plt.subplots(1,4, figsize = (15,5), sharey = True)\n",
    "    # iterating thru the cols and the species\n",
    "    for i in range(len(cols)):\n",
    "        for s in ['Adelie', 'Chinstrap', 'Gentoo']:\n",
    "            # filtering the df for each species\n",
    "            sub=train[train[\"Species\"]==s]\n",
    "            # filtering df for each feature in the cols\n",
    "            sub=sub[cols[i]]\n",
    "            # creating the histogram\n",
    "            ax[i].hist(sub,label=s.split(' ')[0], alpha=0.5)\n",
    "            # labelling the histogram\n",
    "            ax[i].set(xlabel = cols[i])\n",
    "            ax[0].set(ylabel = \"Number of Penguins\")\n",
    "            plt.tight_layout()\n",
    "            # creating a title\n",
    "            plt.suptitle(\"Figure 2: Distribution of Penguin Characteristics\")\n",
    "            \n",
    "# applying the function to the desired column\n",
    "fig, ax = plt.subplots(1,4, figsize = (15,5), sharey = True)\n",
    "drawhis(train, [\"Culmen Length (mm)\", \"Body Mass (g)\", \n",
    "                   \"Culmen Depth (mm)\",\"Flipper Length (mm)\"])\n",
    "# creating a legend\n",
    "plt.legend()\n"
   ]
  },
  {
   "cell_type": "markdown",
   "metadata": {
    "cell_id": "00013-f7b19886-f262-424f-bb5a-de594342c809",
    "deepnote_cell_height": 231.5625,
    "deepnote_cell_type": "markdown",
    "id": "uSxCQpbGlXSg"
   },
   "source": [
    "From this histogram we can see that Culmen Length might be a good feature to decide the species of the penguins because the length is very different for Adelie and Gentoo. A similar trend is seen with the other 4 variables. But it does seem that Chinstrap and Adelie penguins are pretty similar. Overall, all four features seem to be good candidates for use in our model."
   ]
  },
  {
   "cell_type": "markdown",
   "metadata": {
    "cell_id": "00025-1f5b3ffb-8a85-43cc-9613-12c4d7e9a0af",
    "deepnote_cell_height": 62,
    "deepnote_cell_type": "markdown"
   },
   "source": [
    "### Figure 3"
   ]
  },
  {
   "cell_type": "markdown",
   "metadata": {
    "cell_id": "00014-7fe7cdf2-4b59-4d8f-b72a-37773c12f16a",
    "deepnote_cell_height": 209.1875,
    "deepnote_cell_type": "markdown",
    "id": "GoD6XHKhqRHy"
   },
   "source": [
    "Then, the next thing is to draw scatterplots for the penguins dataset which will be our third figure. We picked to plot culmen \n",
    "length on the x axis and two variables (body mass and culmen depth). Based on our obersevations so far, we think these variables might be good in differentiating between species of penguin. "
   ]
  },
  {
   "cell_type": "code",
   "execution_count": 199,
   "metadata": {
    "cell_id": "ebf39c71-6db1-47c0-8f5a-38ae2b3fbc6e",
    "deepnote_cell_height": 819.3125,
    "deepnote_cell_type": "code",
    "deepnote_output_heights": [
     308.3125
    ],
    "deepnote_to_be_reexecuted": false,
    "execution_millis": 732,
    "execution_start": 1646806010870,
    "source_hash": "2b794710",
    "tags": []
   },
   "outputs": [
    {
     "data": {
      "image/png": "[encoded data removed]",
      "text/plain": [
       "<Figure size 1080x360 with 2 Axes>"
      ]
     },
     "metadata": {
      "needs_background": "light"
     },
     "output_type": "display_data"
    }
   ],
   "source": [
    "# creating the plot\n",
    "fig, ax = plt.subplots(1,2, figsize = (15,5))\n",
    "# setting which features and and the species\n",
    "cols = ['Culmen Depth (mm)', 'Body Mass (g)']\n",
    "species = ['Adelie', 'Gentoo', 'Chinstrap']\n",
    "# iterating through the cols and species\n",
    "for col in range(len(cols)):\n",
    "    for s in range (len(species)):\n",
    "        # filtering the penguins df \n",
    "        # for each species\n",
    "        # so that each species is different color\n",
    "        sub = train[train[\"Species\"]==species[s]]\n",
    "        # making a scatterplot with entry of the features of column\n",
    "        # as y axis and culmen length as x axis\n",
    "        ax[col].scatter(sub['Culmen Length (mm)'],sub[cols[col]])\n",
    "        # setting title, labels\n",
    "        ax[col].set(xlabel = 'Culmen Length (mm)', \n",
    "                   ylabel = cols[col], \n",
    "                   title = cols[col])\n",
    "        # creating a legend for each subplot\n",
    "        ax[col].legend(species)\n",
    "# creating an overall title for the figure\n",
    "plt.suptitle(\"Figure 3: Scatterplot of Culmen Length vs \")\n",
    "plt.tight_layout()"
   ]
  },
  {
   "cell_type": "markdown",
   "metadata": {
    "cell_id": "00028-1727d326-a640-4c40-984f-4897816d5752",
    "deepnote_cell_height": 164.375,
    "deepnote_cell_type": "markdown"
   },
   "source": [
    "From these two scatterplots, we can see a relative trend of clustering for each group. \n",
    "This shows that features such as Culmen Depth in combination with culmen depth and body mass might be good candidates for the\n",
    "variables we end up using in the model. \n",
    "\n"
   ]
  },
  {
   "cell_type": "markdown",
   "metadata": {
    "cell_id": "00033-48739326-c46f-4a24-a7ed-0e8bb54dcbc0",
    "deepnote_cell_height": 70,
    "deepnote_cell_type": "markdown"
   },
   "source": [
    "## Section 3: Feature Selection"
   ]
  },
  {
   "cell_type": "markdown",
   "metadata": {
    "cell_id": "00030-ee4cbc15-f2ad-412f-97e9-328d9b833714",
    "deepnote_cell_height": 119.5625,
    "deepnote_cell_type": "markdown"
   },
   "source": [
    "In this section, we will use automated feature selection to select the best combination of three features for eventually modelling the data."
   ]
  },
  {
   "cell_type": "markdown",
   "metadata": {
    "cell_id": "00031-7072e0f7-ac2f-4454-9150-8c22fb46b011",
    "deepnote_cell_height": 388.375,
    "deepnote_cell_type": "markdown"
   },
   "source": [
    "While we have identified several features like culmen depth and body mass that might be good candidiates for our model to classify the species of penguin, we decided to go ahead and use automated feature selection to select the best features for our model. The way how this is works is that we will specifiy a list of combinations of features, and a function will calculate the cross-validation score, a measure of how well the model does on those features, and will return the best combination of features (that has the highest mean cross validation score). \n",
    "For our model choice, we decided to use Random Forest, K-Nearest Neighbors, and Support Vector Machine. "
   ]
  },
  {
   "cell_type": "markdown",
   "metadata": {
    "cell_id": "00032-c3119289-02e2-4d4e-b4b7-dda5ddc5397c",
    "deepnote_cell_height": 209.1875,
    "deepnote_cell_type": "markdown"
   },
   "source": [
    "For the features, we will use Sex as our qualitative variable (we decided to stick with Sex as our quantitative variable in order to have at least one feature be shared between all 3 models for the sake of some consistency and comparison), and for the other two variables, we will use a combination of culmen length, culmen depth, body mass, and flipper length (we found these to be features that could be good candidiates). Hence, there will be a total of 6 combinations. "
   ]
  },
  {
   "cell_type": "markdown",
   "metadata": {
    "cell_id": "00033-01e26ee6-6232-4947-b21d-f31eaf46d3d9",
    "deepnote_cell_height": 97.1875,
    "deepnote_cell_type": "markdown"
   },
   "source": [
    "For our model choice, we decided to use Random Forest, K-Nearest Neighbors, and Support Vector Machine. "
   ]
  },
  {
   "cell_type": "code",
   "execution_count": 200,
   "metadata": {
    "cell_id": "00034-087dc7d3-7b3b-4411-a1ea-7d5646bb1444",
    "deepnote_cell_height": 387,
    "deepnote_cell_type": "code",
    "deepnote_to_be_reexecuted": false,
    "execution_start": 1646806011616,
    "source_hash": "f3c0afcd"
   },
   "outputs": [],
   "source": [
    "# encoding the penguins data to use for eventual use in finding the \n",
    "# best cross validation score\n",
    "def encode_data(df):\n",
    "    \"\"\"\n",
    "    The purpose of this function is to encode qualitative variables\n",
    "    in the penguins data df. Encodes the columns island, species, and\n",
    "    sex using LabelEncoder and returns the dataframe with\n",
    "    the encoded values. \n",
    "    \"\"\"\n",
    "    # copying the data for modification\n",
    "    df = df.copy()\n",
    "    # using the label encoder to encode island, species, \n",
    "    # sex which are the quantitive variables to be used\n",
    "    le = preprocessing.LabelEncoder()\n",
    "    df['Island'] = le.fit_transform(df['Island'])\n",
    "    df['Species'] = le.fit_transform(df['Species'])\n",
    "    df['Sex'] = le.fit_transform(df['Sex'])\n",
    "    return (df)"
   ]
  },
  {
   "cell_type": "code",
   "execution_count": 201,
   "metadata": {
    "cell_id": "00034-ca149d86-d714-4e64-83db-0904d46fa0ff",
    "deepnote_cell_height": 466.796875,
    "deepnote_cell_type": "code",
    "deepnote_to_be_reexecuted": false,
    "execution_millis": 26,
    "execution_start": 1646806011661,
    "source_hash": "b116cdbb"
   },
   "outputs": [
    {
     "data": {
      "text/html": [
       "<div>\n",
       "<style scoped>\n",
       "    .dataframe tbody tr th:only-of-type {\n",
       "        vertical-align: middle;\n",
       "    }\n",
       "\n",
       "    .dataframe tbody tr th {\n",
       "        vertical-align: top;\n",
       "    }\n",
       "\n",
       "    .dataframe thead th {\n",
       "        text-align: right;\n",
       "    }\n",
       "</style>\n",
       "<table border=\"1\" class=\"dataframe\">\n",
       "  <thead>\n",
       "    <tr style=\"text-align: right;\">\n",
       "      <th></th>\n",
       "      <th>Island</th>\n",
       "      <th>Culmen Length (mm)</th>\n",
       "      <th>Culmen Depth (mm)</th>\n",
       "      <th>Sex</th>\n",
       "      <th>Flipper Length (mm)</th>\n",
       "      <th>Body Mass (g)</th>\n",
       "      <th>Delta 15 N (o/oo)</th>\n",
       "      <th>Delta 13 C (o/oo)</th>\n",
       "    </tr>\n",
       "  </thead>\n",
       "  <tbody>\n",
       "    <tr>\n",
       "      <th>154</th>\n",
       "      <td>1</td>\n",
       "      <td>51.3</td>\n",
       "      <td>19.2</td>\n",
       "      <td>1</td>\n",
       "      <td>193.0</td>\n",
       "      <td>3650.0</td>\n",
       "      <td>9.29078</td>\n",
       "      <td>-24.75570</td>\n",
       "    </tr>\n",
       "    <tr>\n",
       "      <th>99</th>\n",
       "      <td>1</td>\n",
       "      <td>43.2</td>\n",
       "      <td>18.5</td>\n",
       "      <td>1</td>\n",
       "      <td>192.0</td>\n",
       "      <td>4100.0</td>\n",
       "      <td>8.97025</td>\n",
       "      <td>-26.03679</td>\n",
       "    </tr>\n",
       "    <tr>\n",
       "      <th>254</th>\n",
       "      <td>0</td>\n",
       "      <td>49.1</td>\n",
       "      <td>14.8</td>\n",
       "      <td>0</td>\n",
       "      <td>220.0</td>\n",
       "      <td>5150.0</td>\n",
       "      <td>7.89744</td>\n",
       "      <td>-26.63405</td>\n",
       "    </tr>\n",
       "    <tr>\n",
       "      <th>202</th>\n",
       "      <td>1</td>\n",
       "      <td>48.1</td>\n",
       "      <td>16.4</td>\n",
       "      <td>0</td>\n",
       "      <td>199.0</td>\n",
       "      <td>3325.0</td>\n",
       "      <td>9.46929</td>\n",
       "      <td>-24.48403</td>\n",
       "    </tr>\n",
       "    <tr>\n",
       "      <th>54</th>\n",
       "      <td>0</td>\n",
       "      <td>34.5</td>\n",
       "      <td>18.1</td>\n",
       "      <td>0</td>\n",
       "      <td>187.0</td>\n",
       "      <td>2900.0</td>\n",
       "      <td>8.41837</td>\n",
       "      <td>-26.54718</td>\n",
       "    </tr>\n",
       "  </tbody>\n",
       "</table>\n",
       "</div>"
      ],
      "text/plain": [
       "     Island  Culmen Length (mm)  Culmen Depth (mm)  Sex  Flipper Length (mm)  \\\n",
       "154       1                51.3               19.2    1                193.0   \n",
       "99        1                43.2               18.5    1                192.0   \n",
       "254       0                49.1               14.8    0                220.0   \n",
       "202       1                48.1               16.4    0                199.0   \n",
       "54        0                34.5               18.1    0                187.0   \n",
       "\n",
       "     Body Mass (g)  Delta 15 N (o/oo)  Delta 13 C (o/oo)  \n",
       "154         3650.0            9.29078          -24.75570  \n",
       "99          4100.0            8.97025          -26.03679  \n",
       "254         5150.0            7.89744          -26.63405  \n",
       "202         3325.0            9.46929          -24.48403  \n",
       "54          2900.0            8.41837          -26.54718  "
      ]
     },
     "execution_count": 201,
     "metadata": {},
     "output_type": "execute_result"
    }
   ],
   "source": [
    "# encoding the training data\n",
    "# and creating an x train and y train\n",
    "# for the entire dataset\n",
    "clean_train = encode_data(train)\n",
    "X_train = clean_train.drop(['Species'], axis = 1)\n",
    "y_train = clean_train['Species']\n",
    "X_train.head()"
   ]
  },
  {
   "cell_type": "code",
   "execution_count": 202,
   "metadata": {
    "cell_id": "00035-85d46da1-f7ed-4b14-9d1d-a48d27c687b6",
    "deepnote_cell_height": 657,
    "deepnote_cell_type": "code",
    "deepnote_to_be_reexecuted": false,
    "execution_millis": 10,
    "execution_start": 1646806011692,
    "source_hash": "8426d7c6"
   },
   "outputs": [],
   "source": [
    "def top_cv_score(X,y, m):\n",
    "    \"\"\"\n",
    "    The purpose of this function is to calculate the best choice of features for a \n",
    "    given model based on its mean cross validation score. Takes in data X and y\n",
    "    (X is predictor data, y is the target data) as well as the desired machine\n",
    "    learning model. Calculates the mean cross validation score for each the choices\n",
    "    and stores it in dictionary, and returns a tuple with the choice with best\n",
    "    mean cross validation score. \n",
    "    \"\"\"\n",
    "    # creating an empty dict where key is the choice\n",
    "    # of 3 features and the value is cross val score \n",
    "    # for that combination of features\n",
    "    cv_dict = {}\n",
    "    # listing out the choices\n",
    "    choices = [['Sex','Culmen Length (mm)','Culmen Depth (mm)'],\n",
    "               ['Sex','Culmen Length (mm)','Flipper Length (mm)'],\n",
    "               ['Sex','Culmen Length (mm)','Body Mass (g)'],\n",
    "               ['Sex','Culmen Depth (mm)','Flipper Length (mm)'],\n",
    "               ['Sex','Culmen Depth (mm)','Body Mass (g)'],\n",
    "               ['Sex','Flipper Length (mm)', 'Body Mass (g)']]           \n",
    "    # iterating thru the choices\n",
    "    for choice in choices:\n",
    "        # making the choice as a tuple for simplicity in \n",
    "        # creating the dict\n",
    "        choice_t = tuple(choice)\n",
    "        # storing the mean cross validation score for each key of feature\n",
    "        # choices\n",
    "        cv_dict[choice_t] = cross_val_score(m, X[choice], y, cv = 5).mean()\n",
    "    # returning the key value pair with the highest cv score\n",
    "    return max(cv_dict.items(), key = lambda k : k[1])\n",
    "\n",
    "    "
   ]
  },
  {
   "cell_type": "markdown",
   "metadata": {
    "cell_id": "00037-a48444bc-1418-40d4-95e2-28283274d1ef",
    "deepnote_cell_height": 74.765625,
    "deepnote_cell_type": "markdown"
   },
   "source": [
    "We will now use our function on the three 3 models we decided on. "
   ]
  },
  {
   "cell_type": "code",
   "execution_count": 204,
   "metadata": {
    "cell_id": "00036-0e40d768-8071-4cfe-a2dd-9ab901c23fc7",
    "deepnote_cell_height": 154.1875,
    "deepnote_cell_type": "code",
    "deepnote_output_heights": [
     21.1875
    ],
    "deepnote_to_be_reexecuted": false,
    "execution_millis": 6902,
    "execution_start": 1646806011715,
    "source_hash": "bcc3ca80"
   },
   "outputs": [
    {
     "data": {
      "text/plain": [
       "(('Sex', 'Culmen Length (mm)', 'Body Mass (g)'), 0.9850454227812717)"
      ]
     },
     "execution_count": 204,
     "metadata": {},
     "output_type": "execute_result"
    }
   ],
   "source": [
    "# applying the function to the Random Forest Classifier\n",
    "rf = RandomForestClassifier()\n",
    "top_cv_score(X_train,y_train,  rf)"
   ]
  },
  {
   "cell_type": "code",
   "execution_count": 205,
   "metadata": {
    "cell_id": "00037-c276550b-0908-4d38-8cf6-d50753c59e37",
    "deepnote_cell_height": 172.1875,
    "deepnote_cell_type": "code",
    "deepnote_output_heights": [
     21.1875
    ],
    "deepnote_to_be_reexecuted": false,
    "execution_millis": 316,
    "execution_start": 1646806018656,
    "source_hash": "175c485b"
   },
   "outputs": [
    {
     "data": {
      "text/plain": [
       "(('Sex', 'Culmen Length (mm)', 'Culmen Depth (mm)'), 0.9701607267645003)"
      ]
     },
     "execution_count": 205,
     "metadata": {},
     "output_type": "execute_result"
    }
   ],
   "source": [
    "# applying the function to K-nearest neighbors classifier\n",
    "KN = KNeighborsClassifier()\n",
    "top_cv_score(X_train,y_train, KN)"
   ]
  },
  {
   "cell_type": "code",
   "execution_count": 206,
   "metadata": {
    "cell_id": "00038-2b5d90b4-fd17-4205-af04-329e4093f099",
    "deepnote_cell_height": 172.1875,
    "deepnote_cell_type": "code",
    "deepnote_output_heights": [
     21.1875
    ],
    "deepnote_to_be_reexecuted": false,
    "execution_millis": 348,
    "execution_start": 1646806018986,
    "source_hash": "69ef6b84"
   },
   "outputs": [
    {
     "data": {
      "text/plain": [
       "(('Sex', 'Culmen Length (mm)', 'Culmen Depth (mm)'), 0.8469601677148848)"
      ]
     },
     "execution_count": 206,
     "metadata": {},
     "output_type": "execute_result"
    }
   ],
   "source": [
    "# applying the function to the Support vector machine\n",
    "SVM = svm.SVC()\n",
    "top_cv_score(X_train,y_train, SVM)"
   ]
  },
  {
   "cell_type": "markdown",
   "metadata": {
    "cell_id": "00041-8507d1ca-d5f7-4bca-bcfb-69fbdba0f1b9",
    "deepnote_cell_height": 455.5625,
    "deepnote_cell_type": "markdown"
   },
   "source": [
    "For the Random Forest Classifier, the combination of sex, culmen length, and body mass, had the best cross validation score \n",
    "with a score of 0.985. For the K-Nearest Neighbors Classifier, the combination of Sex, Culmen Length, and Culmen Depth had \n",
    "the best cross-validation score with a score of 0.970. For the Support Vector Machine, the combination of sex, culmen length, \n",
    "and culmen depth had the best cross validation score of 0.847. Therefore, we will use sex, culmen length, and body mass\n",
    "for our Random Forest model, and sex, culmen length, and culmen depth for our K-Nearest Neighbor and Support Vector Machines\n",
    "models. Not suprisingly, this validated our observations in the explanatory analysis, as these were the ones that we found to have values that differentiated them from different species. "
   ]
  },
  {
   "cell_type": "markdown",
   "metadata": {
    "cell_id": "00039-840dae42-7f2e-4a5f-94dd-3a388e9ad82b",
    "deepnote_cell_height": 70,
    "deepnote_cell_type": "markdown"
   },
   "source": [
    "## Section 3 Modeling "
   ]
  },
  {
   "cell_type": "markdown",
   "metadata": {
    "cell_id": "00043-13bbb9ae-33db-449c-9238-fff1502e215b",
    "deepnote_cell_height": 97.1875,
    "deepnote_cell_type": "markdown"
   },
   "source": [
    "In this section, we will use 3 different machine learning models to try and predict penguin species."
   ]
  },
  {
   "cell_type": "markdown",
   "metadata": {
    "cell_id": "00044-372e1180-f045-4d8d-a651-408627a3e36f",
    "deepnote_cell_height": 62,
    "deepnote_cell_type": "markdown"
   },
   "source": [
    "### Part 0: Functions"
   ]
  },
  {
   "cell_type": "markdown",
   "metadata": {
    "cell_id": "00045-75c2320d-1f12-4461-b41c-0ca6846d525d",
    "deepnote_cell_height": 97.1875,
    "deepnote_cell_type": "markdown"
   },
   "source": [
    "Before modelling, we created some functions to help us further prepare the data for modeling, use cross validation to determine best parameters to use for each model, and to help analyze the results without having to repeat code. We also created another  table to visualize the mean values for the features grouped by species and sex in order to help us with analyzing where the model went wrong. "
   ]
  },
  {
   "cell_type": "code",
   "execution_count": 207,
   "metadata": {
    "cell_id": "00046-32742236-8298-4905-9438-652bfeb36ae8",
    "deepnote_cell_height": 513,
    "deepnote_cell_type": "code",
    "deepnote_to_be_reexecuted": false,
    "execution_start": 1646806019363,
    "source_hash": "309052ab"
   },
   "outputs": [],
   "source": [
    "def prep(df, cols):\n",
    "    \"\"\"\n",
    "    Prepares the data to be ready for modelling. Takes in a df, \n",
    "    either training or testing data, as well as the columns used\n",
    "    (the features we are using for the model) which is a list. \n",
    "    Encodes the data,\n",
    "    filters the data to only the neccesary features, and splits the \n",
    "    data into X, the predictor variables, and y is what we are\n",
    "    trying to predict. Returns the dataframes X and y\n",
    "    \"\"\"\n",
    "    # copying the df to modify it\n",
    "    df = df.copy()\n",
    "    # encoding the qualtitive variables \n",
    "    # using encode data function from above\n",
    "    df = encode_data(df)\n",
    "    # filtering df to only those columns \n",
    "    # specified (that will be used in the model)\n",
    "    df = df[cols]\n",
    "    # splitting data into X and y\n",
    "    # where X are the predictor variables\n",
    "    # and y is what we are trying to predict, \n",
    "    # species\n",
    "    X = df.drop(['Species'], axis = 1)\n",
    "    y = df['Species']\n",
    "    return X, y"
   ]
  },
  {
   "cell_type": "code",
   "execution_count": 235,
   "metadata": {},
   "outputs": [],
   "source": [
    "def best_parameter(X_train, y_train,model):\n",
    "    \"\"\"\n",
    "    The purpose of this function is to find the best complexity parameter \n",
    "    for our model, which has the best mean cross validation score\n",
    "    This is the maximum depth in the random forest, \n",
    "    the number of nearest neighbors in the K-Nearest Neighbors model, \n",
    "    and the regularization parameter, C, in the Support Vector Machines model. \n",
    "    Takes in dataframes X_train, and y-train the training data, as well as the \n",
    "    desired model (rf - Random Forest, KN - k-nearest neighbors, SVM - support\n",
    "    vector machines). Returns the best parameter and its cross validation score, \n",
    "    and makes a plot to visualize the parameter vs the mean cross validation score\n",
    "    \"\"\"\n",
    "    # creating a plot to visualize the trend as the parameter increases\n",
    "    fig, ax = plt.subplots(1, figsize = (6, 5))\n",
    "    # setting the top parameter and top score as intital values\n",
    "    top_param = 1\n",
    "    top_score = 0\n",
    "    # iterating thru t range 1 to 10\n",
    "    for t in range(1, 11):\n",
    "        # calling the model with the parameter as t\n",
    "        if model == rf:\n",
    "            m = RandomForestClassifier(max_depth = t, random_state = 12345)\n",
    "            parameter = 'Max Depth'\n",
    "        elif model == KN:\n",
    "            m = KNeighborsClassifier(n_neighbors = t)\n",
    "            parameter = 'N-Neighbors'\n",
    "        elif model == SVM:\n",
    "            m = svm.SVC(C = t)\n",
    "            parameter = 'C Value - Regularization Parameter'\n",
    "        # calculating ,mean cross val score with t and the training data\n",
    "        score = cross_val_score(m, X_train, y_train).mean()\n",
    "        # plotting it on the plot\n",
    "        ax.scatter(t, score)\n",
    "        # finding the parameter, max depth\n",
    "        # with the highest cross validation score\n",
    "        if score > top_score:\n",
    "            top_param = t\n",
    "            top_score = score\n",
    "    # setting labels for the plot\n",
    "    ax.set(xlabel = parameter,\n",
    "           ylabel = 'Cross Validiation Score', \n",
    "           title = parameter + \" vs Cross Validation Score\")\n",
    "    # printing the best parameter and its cross val score\n",
    "    print(\"Best parameter: \"+str(top_param)+\"; Has CV score of \"+str(top_score))"
   ]
  },
  {
   "cell_type": "code",
   "execution_count": 241,
   "metadata": {
    "cell_id": "00047-d6ba44fe-0a8f-40c1-8449-b3b75d81464c",
    "deepnote_cell_height": 531,
    "deepnote_cell_type": "code",
    "deepnote_to_be_reexecuted": false,
    "execution_start": 1646806019379,
    "source_hash": "b7888dd4"
   },
   "outputs": [],
   "source": [
    "def error_table(X_test, y_test, m):\n",
    "    \"\"\"\n",
    "    Creates an dataframe (table) with the penguins that the model\n",
    "    incorrectly classified. Takes in dataframes X_test\n",
    "    and y_test, the testing data, and fitted model m. A dataframe\n",
    "    with the incorrectly classified penguins is returned with the \n",
    "    values for sex and and species decoded back to the original labels\n",
    "    \"\"\"\n",
    "    y_test_predict = m.predict(X_test)\n",
    "    # finding the predicted species values\n",
    "    # mask to get values where the predicted\n",
    "    # and actual species are not equal\n",
    "    errors = y_test_predict != y_test\n",
    "    # creating a dataframe by filtering the test data\n",
    "    # to only penguins that are incorrectly classified\n",
    "    error_table = X_test[errors]\n",
    "    # creating new columns to show actual and predicted species\n",
    "    error_table[\"Actual Species\"] = y_test[errors]\n",
    "    error_table[\"Predicted Species\"] = y_test_predict[errors]\n",
    "    # changing encoded values back to original names for clarity\n",
    "    # chinstrap 1, adelie  0,  gentoo 2\n",
    "    error_table[\"Actual Species\"].replace({0: \"Adelie\", \n",
    "                                           1: \"Chinstrap\", \n",
    "                                           2:'Gentoo'}, \n",
    "                                          inplace=True)\n",
    "    error_table[\"Predicted Species\"].replace({0: \"Adelie\", \n",
    "                                              1: \"Chinstrap\", \n",
    "                                              2:'Gentoo'}, \n",
    "                                             inplace=True)\n",
    "    error_table[\"Sex\"].replace({0: \"F\", 1: \"M\"}, inplace=True)\n",
    "\n",
    "    return error_table"
   ]
  },
  {
   "cell_type": "code",
   "execution_count": 210,
   "metadata": {},
   "outputs": [],
   "source": [
    "def cm(model, X_test, y_test):\n",
    "    \"\"\"\n",
    "    Creates a confusion matrix to visualize\n",
    "    the performance of a model; to see\n",
    "    where it made mistakes and where it had successes.\n",
    "    Takes in the fitted model (that has already been fitted on entire \n",
    "    training data)\n",
    "    and the testing dataframes X_test and y_test. \n",
    "    Returns the confusion matrix, in a seaborn heatmap\n",
    "    form for better visual clarity.\n",
    "    \"\"\"\n",
    "    # getting predictions by using provided\n",
    "    # model to predict species for X testing data\n",
    "    y_test_predict = model.predict(X_test) \n",
    "    # creating confusion matrix using predictions\n",
    "    # and true testing data y test\n",
    "    c_m  = confusion_matrix(y_test, y_test_predict)\n",
    "    # making it in heatmap form and labelling\n",
    "    c_m = sns.heatmap(c_m, annot=True)\n",
    "    c_m.set(xlabel = \"Predicted Value\", ylabel = \"Actual Value\")\n",
    "    return c_m"
   ]
  },
  {
   "cell_type": "code",
   "execution_count": 277,
   "metadata": {
    "cell_id": "00048-a674401c-1a55-46f6-a285-9ad6168c2ead",
    "deepnote_cell_height": 1053,
    "deepnote_cell_type": "code",
    "deepnote_to_be_reexecuted": false,
    "execution_millis": 3,
    "execution_start": 1646806019385,
    "source_hash": "f0762ad8"
   },
   "outputs": [],
   "source": [
    "def plot_regions(model, X,y, cols):\n",
    "    \"\"\"\n",
    "    Creates a decision region plot to visualize\n",
    "    how a model visualized and predicted the data. \n",
    "    Takes in a fitted model (that has already been fitted\n",
    "    on the entire training dataset), model, the dataframes\n",
    "    X and y (can be training or testing data), and the cols\n",
    "    or the list of features used in that model. \n",
    "    Returns two decision region\n",
    "    plots one for each sex. \n",
    "    \"\"\"\n",
    "    # creating the figure and setting x0 and x1 \n",
    "    # to be the two quantitative variables\n",
    "    fig, ax = plt.subplots(1,2,figsize=(15,7))\n",
    "    x0 = X[cols[0]]\n",
    "    x1 = X[cols[1]]\n",
    "\n",
    "    # creating the grids\n",
    "    # this is done in order to predict the species\n",
    "    # of each point in the plot so that is color coded\n",
    "    # to form a solid region\n",
    "    grid_x = np.linspace(x0.min(),x0.max(),501)\n",
    "    grid_y = np.linspace(x1.min(),x1.max(),501)\n",
    "    # grid z is the sex variable, with an array of 0 and 1s created\n",
    "    # matches with how the sex is 0 for female, 1 for male\n",
    "    # neccesary as our model uses three features to predict penguin\n",
    "    # species and sex is the third one\n",
    "    grid_z = np.array([0,1])\n",
    "    # making a meshgrid of the three gridsin order \n",
    "    # to approx loc of each point\n",
    "    xx, yy,zz = np.meshgrid(grid_x, grid_y, grid_z)\n",
    "    # in order to make predictions for each point in the plot\n",
    "    # we must convert xx, yy, zz to an 1D array\n",
    "    # array ravel converts the 3d array into 1D array\n",
    "    # then model predictions are extracted using np.c_ by joining\n",
    "    # the parts of the grid\n",
    "    XX = xx.ravel()\n",
    "    YY = yy.ravel()\n",
    "    ZZ = zz.ravel()\n",
    "    # in order to predictions need one array, so concactenating \n",
    "    # XX, YY, and ZZ, into one XYZ array using np.c\n",
    "    XYZ=np.c_[XX,YY,ZZ]\n",
    "    # getting the predictions\n",
    "    p = model.predict(XYZ)\n",
    "    # array.reshape() used to convert predictions p back to 3D\n",
    "    p = p.reshape(xx.shape)\n",
    "    # creating the contour plot, with 0 for female, 1 for male\n",
    "    # extracting the values from the xx, yy, zz for the coordinates of\n",
    "    # of the contour; \n",
    "    # this is because the third dimension provided has the sex attribute\n",
    "    # for the points (0 for females, 1 for males)\n",
    "    ax[0].contourf(xx[:,:,0], yy[:,:,0], p[:,:,0], cmap = \"jet\", alpha = 0.20)\n",
    "    ax[1].contourf(xx[:,:,1], yy[:,:,1], p[:,:,1], cmap = \"jet\", alpha = 0.20)\n",
    "    # data is then plotted, first subplot for females, 2nd for males\n",
    "    # masks for male anf emale\n",
    "    female = X['Sex'] == 0\n",
    "    male = X['Sex'] == 1\n",
    "    ax[0].scatter(x0[female], x1[female], c = y[female], cmap = \"jet\")\n",
    "    ax[1].scatter(x0[male],x1[male],c=y[male],cmap=\"jet\")\n",
    "    # setting labels for the plot\n",
    "    ax[0].set(xlabel = cols[0], ylabel = cols[1], title=\"Female Penguins\")\n",
    "    ax[1].set(xlabel = cols[0], ylabel = cols[1], title=\"Male Penguins\")\n",
    "    # creating a legend\n",
    "    # setting colors manually\n",
    "    adelie = mpatches.Patch(color='darkblue', label='Adelie')\n",
    "    chinstrap = mpatches.Patch(color='lawngreen', label='Chinstrap')\n",
    "    gentoo = mpatches.Patch(color='maroon', label='Gentoo')\n",
    "    plt.legend(handles=[adelie, chinstrap, gentoo], loc = 'center right', \n",
    "               bbox_to_anchor=(1.22, 0.5))\n",
    "    \n",
    "    plt.tight_layout()"
   ]
  },
  {
   "cell_type": "code",
   "execution_count": 213,
   "metadata": {},
   "outputs": [
    {
     "data": {
      "text/html": [
       "<div>\n",
       "<style scoped>\n",
       "    .dataframe tbody tr th:only-of-type {\n",
       "        vertical-align: middle;\n",
       "    }\n",
       "\n",
       "    .dataframe tbody tr th {\n",
       "        vertical-align: top;\n",
       "    }\n",
       "\n",
       "    .dataframe thead th {\n",
       "        text-align: right;\n",
       "    }\n",
       "</style>\n",
       "<table border=\"1\" class=\"dataframe\">\n",
       "  <thead>\n",
       "    <tr style=\"text-align: right;\">\n",
       "      <th></th>\n",
       "      <th></th>\n",
       "      <th>Culmen Length (mm)</th>\n",
       "      <th>Culmen Depth (mm)</th>\n",
       "      <th>Body Mass (g)</th>\n",
       "    </tr>\n",
       "    <tr>\n",
       "      <th>Species</th>\n",
       "      <th>Sex</th>\n",
       "      <th></th>\n",
       "      <th></th>\n",
       "      <th></th>\n",
       "    </tr>\n",
       "  </thead>\n",
       "  <tbody>\n",
       "    <tr>\n",
       "      <th rowspan=\"2\" valign=\"top\">Adelie</th>\n",
       "      <th>FEMALE</th>\n",
       "      <td>37.2</td>\n",
       "      <td>17.5</td>\n",
       "      <td>3362.5</td>\n",
       "    </tr>\n",
       "    <tr>\n",
       "      <th>MALE</th>\n",
       "      <td>40.3</td>\n",
       "      <td>19.0</td>\n",
       "      <td>4037.9</td>\n",
       "    </tr>\n",
       "    <tr>\n",
       "      <th rowspan=\"2\" valign=\"top\">Chinstrap</th>\n",
       "      <th>FEMALE</th>\n",
       "      <td>47.1</td>\n",
       "      <td>17.6</td>\n",
       "      <td>3519.0</td>\n",
       "    </tr>\n",
       "    <tr>\n",
       "      <th>MALE</th>\n",
       "      <td>51.0</td>\n",
       "      <td>19.2</td>\n",
       "      <td>3936.2</td>\n",
       "    </tr>\n",
       "    <tr>\n",
       "      <th rowspan=\"2\" valign=\"top\">Gentoo</th>\n",
       "      <th>FEMALE</th>\n",
       "      <td>45.6</td>\n",
       "      <td>14.3</td>\n",
       "      <td>4697.0</td>\n",
       "    </tr>\n",
       "    <tr>\n",
       "      <th>MALE</th>\n",
       "      <td>49.6</td>\n",
       "      <td>15.7</td>\n",
       "      <td>5488.0</td>\n",
       "    </tr>\n",
       "  </tbody>\n",
       "</table>\n",
       "</div>"
      ],
      "text/plain": [
       "                  Culmen Length (mm)  Culmen Depth (mm)  Body Mass (g)\n",
       "Species   Sex                                                         \n",
       "Adelie    FEMALE                37.2               17.5         3362.5\n",
       "          MALE                  40.3               19.0         4037.9\n",
       "Chinstrap FEMALE                47.1               17.6         3519.0\n",
       "          MALE                  51.0               19.2         3936.2\n",
       "Gentoo    FEMALE                45.6               14.3         4697.0\n",
       "          MALE                  49.6               15.7         5488.0"
      ]
     },
     "execution_count": 213,
     "metadata": {},
     "output_type": "execute_result"
    }
   ],
   "source": [
    "# creating another table to help us with our error analysis\n",
    "# grouped by species and sex (to correspond with decision region)\n",
    "# and with only features used \n",
    "# in modelling\n",
    "train.groupby([\"Species\", \"Sex\"])[[\"Culmen Length (mm)\", \n",
    "                                    \"Culmen Depth (mm)\", \n",
    "                                    \"Body Mass (g)\"]].mean().round(1)"
   ]
  },
  {
   "cell_type": "markdown",
   "metadata": {
    "cell_id": "00040-eb8e44ed-4d88-45f5-ac34-dc31897dd2c7",
    "deepnote_cell_height": 62,
    "deepnote_cell_type": "markdown"
   },
   "source": [
    "### Part 1: Random Forest"
   ]
  },
  {
   "cell_type": "markdown",
   "metadata": {
    "cell_id": "00050-f7a219e7-2df5-448c-b9fc-79a2ed123734",
    "deepnote_cell_height": 298.765625,
    "deepnote_cell_type": "markdown"
   },
   "source": [
    "Our first model is the Random Forest model. The way how the Random Forest model works is that it is a ensemble prediction of\n",
    "a bunch of decision trees (which are simple algorithms that predict the species based on understanding the trends in the data and using probability to determine the species). So the classification provided by the random forest is like an \"average\" of the predictions \n",
    "all of these decision trees. We will be using Sex, Culmen Length, and Body Mass to try and predict the species of a penguin. "
   ]
  },
  {
   "cell_type": "markdown",
   "metadata": {
    "cell_id": "00051-d8dbf7bb-6949-4a1f-8315-c3b57124f924",
    "deepnote_cell_height": 254,
    "deepnote_cell_type": "markdown"
   },
   "source": [
    "Our first task is to prepare the train and the test data for modeling. Using the prep function introduced above, \n",
    "qualitative variables are encoded and the dataframe is filtered to have only the variables we need for this model. Both the \n",
    "training and testing data are split into X and y, where X being the predictor variables (Sex, Culmen Length, and Body Mass) \n",
    "and y being what we are trying to predict. "
   ]
  },
  {
   "cell_type": "code",
   "execution_count": 214,
   "metadata": {
    "cell_id": "00041-0054747d-1db8-41f8-9578-2a8d5f78dca0",
    "deepnote_cell_height": 540,
    "deepnote_cell_type": "code",
    "deepnote_to_be_reexecuted": false,
    "execution_millis": 39,
    "execution_start": 1646806019395,
    "scrolled": false,
    "source_hash": "cc34d54c"
   },
   "outputs": [
    {
     "data": {
      "text/html": [
       "<div>\n",
       "<style scoped>\n",
       "    .dataframe tbody tr th:only-of-type {\n",
       "        vertical-align: middle;\n",
       "    }\n",
       "\n",
       "    .dataframe tbody tr th {\n",
       "        vertical-align: top;\n",
       "    }\n",
       "\n",
       "    .dataframe thead th {\n",
       "        text-align: right;\n",
       "    }\n",
       "</style>\n",
       "<table border=\"1\" class=\"dataframe\">\n",
       "  <thead>\n",
       "    <tr style=\"text-align: right;\">\n",
       "      <th></th>\n",
       "      <th>Culmen Length (mm)</th>\n",
       "      <th>Body Mass (g)</th>\n",
       "      <th>Sex</th>\n",
       "    </tr>\n",
       "  </thead>\n",
       "  <tbody>\n",
       "    <tr>\n",
       "      <th>154</th>\n",
       "      <td>51.3</td>\n",
       "      <td>3650.0</td>\n",
       "      <td>1</td>\n",
       "    </tr>\n",
       "    <tr>\n",
       "      <th>99</th>\n",
       "      <td>43.2</td>\n",
       "      <td>4100.0</td>\n",
       "      <td>1</td>\n",
       "    </tr>\n",
       "    <tr>\n",
       "      <th>254</th>\n",
       "      <td>49.1</td>\n",
       "      <td>5150.0</td>\n",
       "      <td>0</td>\n",
       "    </tr>\n",
       "    <tr>\n",
       "      <th>202</th>\n",
       "      <td>48.1</td>\n",
       "      <td>3325.0</td>\n",
       "      <td>0</td>\n",
       "    </tr>\n",
       "    <tr>\n",
       "      <th>54</th>\n",
       "      <td>34.5</td>\n",
       "      <td>2900.0</td>\n",
       "      <td>0</td>\n",
       "    </tr>\n",
       "  </tbody>\n",
       "</table>\n",
       "</div>"
      ],
      "text/plain": [
       "     Culmen Length (mm)  Body Mass (g)  Sex\n",
       "154                51.3         3650.0    1\n",
       "99                 43.2         4100.0    1\n",
       "254                49.1         5150.0    0\n",
       "202                48.1         3325.0    0\n",
       "54                 34.5         2900.0    0"
      ]
     },
     "execution_count": 214,
     "metadata": {},
     "output_type": "execute_result"
    }
   ],
   "source": [
    "# preparing the data for modelling\n",
    "# using prep function\n",
    "# splitting the data as well into X and y\n",
    "# here in X1, y1 refers to how random forest is 1st model\n",
    "# train is training, test is testing data\n",
    "X1_train, y1_train = prep(train, ['Species',\n",
    "                                  'Culmen Length (mm)',\n",
    "                                  'Body Mass (g)', 'Sex'])\n",
    "X1_test, y1_test = prep(test, ['Species',\n",
    "                               'Culmen Length (mm)',\n",
    "                               'Body Mass (g)', 'Sex'])\n",
    "X1_train.head()"
   ]
  },
  {
   "cell_type": "markdown",
   "metadata": {
    "cell_id": "00053-2c2d5a09-88a9-4c6f-aa46-e6bcf6195674",
    "deepnote_cell_height": 209.1875,
    "deepnote_cell_type": "markdown"
   },
   "source": [
    "Our second task is to determine the best complexity parameter for our random forest model, the maximum depth. Using a similar approach\n",
    "as seen with our automated feature classification, we will try and iterate through a series of max depths (from 1 to 10),\n",
    "and use whichever one yields the highest cross validation score. "
   ]
  },
  {
   "cell_type": "code",
   "execution_count": 236,
   "metadata": {},
   "outputs": [
    {
     "name": "stdout",
     "output_type": "stream",
     "text": [
      "Best parameter: 5; Has CV score of 0.9812718378756115\n"
     ]
    },
    {
     "data": {
      "image/png": "[encoded data removed]",
      "text/plain": [
       "<Figure size 432x360 with 1 Axes>"
      ]
     },
     "metadata": {
      "needs_background": "light"
     },
     "output_type": "display_data"
    }
   ],
   "source": [
    "# finding the best max depth for random forest model\n",
    "best_parameter(X1_train, y1_train,rf)"
   ]
  },
  {
   "cell_type": "markdown",
   "metadata": {
    "cell_id": "00055-101bacf8-b4d6-4c37-99ba-47ea02f7e6c2",
    "deepnote_cell_height": 119.5625,
    "deepnote_cell_type": "markdown"
   },
   "source": [
    "As illustrated above, the optimal max depth seems to be 5 as it has the highest cross validation score. Hence, we will be using that in our model. "
   ]
  },
  {
   "cell_type": "markdown",
   "metadata": {
    "cell_id": "00056-b940304f-49ae-40f4-aec1-f02e9ab2e26f",
    "deepnote_cell_height": 119.5625,
    "deepnote_cell_type": "markdown"
   },
   "source": [
    "Our next task, and the most important, is to fit the model on our training data and evaluating its performance on the test data. We will do that below.  "
   ]
  },
  {
   "cell_type": "code",
   "execution_count": 216,
   "metadata": {
    "cell_id": "00043-8dae03d0-b374-4f57-8716-844236759478",
    "deepnote_cell_height": 226.1875,
    "deepnote_cell_type": "code",
    "deepnote_output_heights": [
     21.1875
    ],
    "deepnote_to_be_reexecuted": false,
    "execution_millis": 220,
    "execution_start": 1646806028902,
    "scrolled": false,
    "source_hash": "10a2f73d"
   },
   "outputs": [
    {
     "data": {
      "text/plain": [
       "0.9846153846153847"
      ]
     },
     "execution_count": 216,
     "metadata": {},
     "output_type": "execute_result"
    }
   ],
   "source": [
    "# calling the random forest classifier with the max depth\n",
    "# being the top value shown in the graph of 5\n",
    "rf = RandomForestClassifier(max_depth = 5, random_state = 12345)\n",
    "# fitting the model on training data\n",
    "rf.fit(X1_train, y1_train) \n",
    "# evaluating the model on the testing data\n",
    "rf.score(X1_test, y1_test)"
   ]
  },
  {
   "cell_type": "markdown",
   "metadata": {
    "cell_id": "00058-8047157e-ac72-4631-9170-a8f3668eac8e",
    "deepnote_cell_height": 186.765625,
    "deepnote_cell_type": "markdown"
   },
   "source": [
    "It looks like our random forest model's performance on the test data was 98.4%. This means it was able to correctly classify the species of\n",
    "penguin 98.4 percent of the time! For the vast majority of penguins in our testing dataset, it was correctly able to identify the species. "
   ]
  },
  {
   "cell_type": "markdown",
   "metadata": {
    "cell_id": "00059-5a84332e-b016-4318-a611-a11c3e577060",
    "deepnote_cell_height": 97.1875,
    "deepnote_cell_type": "markdown"
   },
   "source": [
    "\n",
    "However, it is important that we understand where our model went wrong. We will first use a confusion matrix to do this. "
   ]
  },
  {
   "cell_type": "code",
   "execution_count": 217,
   "metadata": {
    "cell_id": "00044-525aef05-5d6c-4d45-af48-afc982a21b89",
    "deepnote_cell_height": 228.578125,
    "deepnote_cell_type": "code",
    "deepnote_output_heights": [
     59.59375
    ],
    "deepnote_to_be_reexecuted": false,
    "execution_millis": 27,
    "execution_start": 1646806029145,
    "source_hash": "72459770"
   },
   "outputs": [
    {
     "data": {
      "text/plain": [
       "<AxesSubplot:xlabel='Predicted Value', ylabel='Actual Value'>"
      ]
     },
     "execution_count": 217,
     "metadata": {},
     "output_type": "execute_result"
    },
    {
     "data": {
      "image/png": "[encoded data removed]",
      "text/plain": [
       "<Figure size 432x288 with 2 Axes>"
      ]
     },
     "metadata": {
      "needs_background": "light"
     },
     "output_type": "display_data"
    }
   ],
   "source": [
    "# creating the confusion matrix\n",
    "cm(rf, X1_test, y1_test)"
   ]
  },
  {
   "cell_type": "markdown",
   "metadata": {
    "cell_id": "00061-2806dfd4-5298-48ad-92ea-29f59cac5a1c",
    "deepnote_cell_height": 186.765625,
    "deepnote_cell_type": "markdown"
   },
   "source": [
    "Looking at the confusion matrix above, the diagonal are the penguins where the species was correctly identified (where predicted and actual values are equal). The non diaganol entries are where the model made a mistake. \n",
    "Most of the non diaganol entries are 0, except for 1, where there is a value of one (the predicted value is 0, the actual value is 1). This indicates there was one penguin that was incorrectly classified as some other species. "
   ]
  },
  {
   "cell_type": "markdown",
   "metadata": {
    "cell_id": "00062-83272832-2219-40f9-85a3-60b453b3c532",
    "deepnote_cell_height": 97.1875,
    "deepnote_cell_type": "markdown"
   },
   "source": [
    "We can visualize this by creating a decision region plot to visualize what the model \"saw\" when analzying the data."
   ]
  },
  {
   "cell_type": "markdown",
   "metadata": {
    "cell_id": "00063-740bd3e9-e05f-4664-9b97-1740f000751c",
    "deepnote_cell_height": 74.765625,
    "deepnote_cell_type": "markdown"
   },
   "source": [
    "First, let us look at what the model saw on the training data. "
   ]
  },
  {
   "cell_type": "code",
   "execution_count": 278,
   "metadata": {
    "cell_id": "00064-8baec6a3-c4fc-49d3-b6dc-5365599dab2c",
    "deepnote_cell_height": 451,
    "deepnote_cell_type": "code",
    "deepnote_output_heights": [
     354
    ],
    "deepnote_to_be_reexecuted": false,
    "execution_millis": 3393,
    "execution_start": 1646806029178,
    "scrolled": false,
    "source_hash": "bb642fce"
   },
   "outputs": [
    {
     "data": {
      "image/png": "[encoded data removed]",
      "text/plain": [
       "<Figure size 1080x504 with 2 Axes>"
      ]
     },
     "metadata": {
      "needs_background": "light"
     },
     "output_type": "display_data"
    }
   ],
   "source": [
    "# decision region on training data \n",
    "plot_regions(rf, X1_train, y1_train, ['Culmen Length (mm)', 'Body Mass (g)'])"
   ]
  },
  {
   "cell_type": "markdown",
   "metadata": {},
   "source": [
    "The decision region plots above show how the fitted random forest model viewed the training data. The penguins (the points) are plotted according to their culmen length and body mass, and are color coded for their true species. The model's view of the data is shown in the colored regions. For example, a green dot in the green region means that the model correctly \"thinks\" that a chinstrap penguin is a chinstrap penguin. Mistakes are observed when a point is not in its respective color region. For example, a green dot in the blue region is an indication that the model \"thought\" that a Chinstrap penguin (green) was an Adelie penguin (blue)."
   ]
  },
  {
   "cell_type": "markdown",
   "metadata": {
    "cell_id": "00065-6689ba5d-f946-485b-b1c8-0aa3f945da81",
    "deepnote_cell_height": 231.5625,
    "deepnote_cell_type": "markdown"
   },
   "source": [
    "The model did an excellent job of correctly classifying the training data. Most penguins are in their respective color regions. \n",
    "However, it seems as though the Random Forest model was confused when dealing with female chinstrap and female adelie penguins, \n",
    "as they tend to have similar body masses and culmen lengths. This is because there does seem to be some overlap between female Adelie and female Chinstrap penguins.  "
   ]
  },
  {
   "cell_type": "markdown",
   "metadata": {
    "cell_id": "00066-ad5cf5c9-e713-47c6-96eb-825c788d4c19",
    "deepnote_cell_height": 74.765625,
    "deepnote_cell_type": "markdown"
   },
   "source": [
    "Let us now look at the decision regions for the testing data. "
   ]
  },
  {
   "cell_type": "code",
   "execution_count": 279,
   "metadata": {
    "cell_id": "00067-bef782bd-c4cb-49b3-9d39-d8c99b46c3f7",
    "deepnote_cell_height": 451,
    "deepnote_cell_type": "code",
    "deepnote_output_heights": [
     354
    ],
    "deepnote_to_be_reexecuted": false,
    "execution_millis": 3266,
    "execution_start": 1646806032610,
    "source_hash": "f64ceabb"
   },
   "outputs": [
    {
     "data": {
      "image/png": "[encoded data removed]",
      "text/plain": [
       "<Figure size 1080x504 with 2 Axes>"
      ]
     },
     "metadata": {
      "needs_background": "light"
     },
     "output_type": "display_data"
    }
   ],
   "source": [
    "# decision region for testing data\n",
    "plot_regions(rf, X1_test, y1_test, ['Culmen Length (mm)', 'Body Mass (g)'])"
   ]
  },
  {
   "cell_type": "markdown",
   "metadata": {
    "cell_id": "00068-d038dc5a-4da8-49a8-a6c8-9d7016eacc30",
    "deepnote_cell_height": 74.796875,
    "deepnote_cell_type": "markdown"
   },
   "source": [
    "Looking at the decision region plots above, this validates what we saw in the plots for the training data and in the confusion matrix. In the testing data, \n",
    "it looks like one female chinstrap penguin was incorrectly labelled as an Adelie Penguin (the green dot in the blue region), which could be a results of having a similar culmen length and body mass of an Adelie penguin. However, it should also be noted that the model did an excellent job of labelling Gentoo penguins as all of them were correctly classified. We feel this is a result of the fact that they have higher body masses than the other penguins. "
   ]
  },
  {
   "cell_type": "markdown",
   "metadata": {
    "cell_id": "00069-04644d7d-231d-4307-9bed-e7c660181c10",
    "deepnote_cell_height": 74.765625,
    "deepnote_cell_type": "markdown"
   },
   "source": [
    "We then made a table to look at this incorrectly labelled penguin and its values."
   ]
  },
  {
   "cell_type": "code",
   "execution_count": 243,
   "metadata": {
    "cell_id": "00045-93eb0be3-237f-44d0-8c82-7ce4404bab5d",
    "deepnote_cell_height": 196,
    "deepnote_cell_type": "code",
    "deepnote_to_be_reexecuted": false,
    "execution_millis": 33,
    "execution_start": 1646806035882,
    "source_hash": "c4b83d12"
   },
   "outputs": [
    {
     "data": {
      "text/html": [
       "<div>\n",
       "<style scoped>\n",
       "    .dataframe tbody tr th:only-of-type {\n",
       "        vertical-align: middle;\n",
       "    }\n",
       "\n",
       "    .dataframe tbody tr th {\n",
       "        vertical-align: top;\n",
       "    }\n",
       "\n",
       "    .dataframe thead th {\n",
       "        text-align: right;\n",
       "    }\n",
       "</style>\n",
       "<table border=\"1\" class=\"dataframe\">\n",
       "  <thead>\n",
       "    <tr style=\"text-align: right;\">\n",
       "      <th></th>\n",
       "      <th>Culmen Length (mm)</th>\n",
       "      <th>Body Mass (g)</th>\n",
       "      <th>Sex</th>\n",
       "      <th>Actual Species</th>\n",
       "      <th>Predicted Species</th>\n",
       "    </tr>\n",
       "  </thead>\n",
       "  <tbody>\n",
       "    <tr>\n",
       "      <th>182</th>\n",
       "      <td>40.9</td>\n",
       "      <td>3200.0</td>\n",
       "      <td>F</td>\n",
       "      <td>Chinstrap</td>\n",
       "      <td>Adelie</td>\n",
       "    </tr>\n",
       "  </tbody>\n",
       "</table>\n",
       "</div>"
      ],
      "text/plain": [
       "     Culmen Length (mm)  Body Mass (g) Sex Actual Species Predicted Species\n",
       "182                40.9         3200.0   F      Chinstrap            Adelie"
      ]
     },
     "execution_count": 243,
     "metadata": {},
     "output_type": "execute_result"
    }
   ],
   "source": [
    "# creating table of errors \n",
    "error_table(X1_test, y1_test, rf)"
   ]
  },
  {
   "cell_type": "markdown",
   "metadata": {
    "cell_id": "00071-5d9d3cee-2b61-413a-9810-f06b48e9c112",
    "deepnote_cell_height": 186.765625,
    "deepnote_cell_type": "markdown"
   },
   "source": [
    "It looks like this female Chinstrap penguin has a culmen length of 40.9 mm. This seems to be much lower than the average female \n",
    "Chinstrap penguin culmen length of 47.1 mm. This may be why it was classified as an Adelie penguin, which have lower\n",
    "culmen lengths (the  female Adelie Penguin have an average culmen length of around 37.1 mm). Another possible reason is that its body mass is relatively low for a Chinstrap penguin and more closely resembles that of an Adelie penguin. This penguin's body mass of 3200 grams is closer to the average body mass of a female Adelie penguin of 3362.5 g than that of a female chinstrap penguin of 3519 grams. We can see this in visual form in the decision region plot as this penguin was plotted in the Adelie region (blue) as its measurements are more indicative of an Adelie penguin. Overall, because its culmen length and body mass resembles that of an Adelie female, this female Chinstrap penguin was misclassified. "
   ]
  },
  {
   "cell_type": "markdown",
   "metadata": {
    "cell_id": "00072-554a41d3-5a1c-4902-9652-0d44829afd85",
    "deepnote_cell_height": 62,
    "deepnote_cell_type": "markdown"
   },
   "source": [
    " ### Part 2: K-Nearest Neighbors"
   ]
  },
  {
   "cell_type": "markdown",
   "metadata": {
    "cell_id": "a8638794-e8f9-4636-a56d-2275676a0a1d",
    "deepnote_cell_height": 254,
    "deepnote_cell_type": "markdown",
    "tags": []
   },
   "source": [
    "Our first model is the K-Nearest Neighbors model. The way how the K-Nearest Neighbors model works is that KNN algorithm assumes that similar things exist in close proximity. In other words, similar things are near to each other.. So we will calculate the distance between points for the model. We will be using Sex, Culmen Length, and Culmen Depth to try and predict the species of a penguin."
   ]
  },
  {
   "cell_type": "markdown",
   "metadata": {
    "cell_id": "00073-ec12b5ff-3ff0-4938-a759-eeb72481ddae",
    "deepnote_cell_height": 254,
    "deepnote_cell_type": "markdown"
   },
   "source": [
    "Our first task is to prepare the train and the test data for modeling. Using the prep function introduced above, qualitative variables are encoded and the dataframe is filtered to have only the variables we need for this model. Both the training and testing data are split into X and y, where X being the predictor variables (Sex, Culmen Length, and Culmen Depth) and y being what we are trying to predict."
   ]
  },
  {
   "cell_type": "code",
   "execution_count": 221,
   "metadata": {
    "cell_id": "00046-4de09ab6-fa8c-4872-987b-8dcf99c26fb9",
    "deepnote_cell_height": 450,
    "deepnote_cell_type": "code",
    "deepnote_to_be_reexecuted": false,
    "execution_millis": 28,
    "execution_start": 1646806035921,
    "source_hash": "5ae36b6c"
   },
   "outputs": [
    {
     "data": {
      "text/html": [
       "<div>\n",
       "<style scoped>\n",
       "    .dataframe tbody tr th:only-of-type {\n",
       "        vertical-align: middle;\n",
       "    }\n",
       "\n",
       "    .dataframe tbody tr th {\n",
       "        vertical-align: top;\n",
       "    }\n",
       "\n",
       "    .dataframe thead th {\n",
       "        text-align: right;\n",
       "    }\n",
       "</style>\n",
       "<table border=\"1\" class=\"dataframe\">\n",
       "  <thead>\n",
       "    <tr style=\"text-align: right;\">\n",
       "      <th></th>\n",
       "      <th>Culmen Length (mm)</th>\n",
       "      <th>Culmen Depth (mm)</th>\n",
       "      <th>Sex</th>\n",
       "    </tr>\n",
       "  </thead>\n",
       "  <tbody>\n",
       "    <tr>\n",
       "      <th>154</th>\n",
       "      <td>51.3</td>\n",
       "      <td>19.2</td>\n",
       "      <td>1</td>\n",
       "    </tr>\n",
       "    <tr>\n",
       "      <th>99</th>\n",
       "      <td>43.2</td>\n",
       "      <td>18.5</td>\n",
       "      <td>1</td>\n",
       "    </tr>\n",
       "    <tr>\n",
       "      <th>254</th>\n",
       "      <td>49.1</td>\n",
       "      <td>14.8</td>\n",
       "      <td>0</td>\n",
       "    </tr>\n",
       "    <tr>\n",
       "      <th>202</th>\n",
       "      <td>48.1</td>\n",
       "      <td>16.4</td>\n",
       "      <td>0</td>\n",
       "    </tr>\n",
       "    <tr>\n",
       "      <th>54</th>\n",
       "      <td>34.5</td>\n",
       "      <td>18.1</td>\n",
       "      <td>0</td>\n",
       "    </tr>\n",
       "  </tbody>\n",
       "</table>\n",
       "</div>"
      ],
      "text/plain": [
       "     Culmen Length (mm)  Culmen Depth (mm)  Sex\n",
       "154                51.3               19.2    1\n",
       "99                 43.2               18.5    1\n",
       "254                49.1               14.8    0\n",
       "202                48.1               16.4    0\n",
       "54                 34.5               18.1    0"
      ]
     },
     "execution_count": 221,
     "metadata": {},
     "output_type": "execute_result"
    }
   ],
   "source": [
    "# preparing the testing using prep function\n",
    "X2_train, y2_train = prep(train, ['Species',\n",
    "                                  'Culmen Length (mm)',\n",
    "                                  'Culmen Depth (mm)', 'Sex'])\n",
    "X2_test, y2_test = prep(test, ['Species',\n",
    "                               'Culmen Length (mm)',\n",
    "                               'Culmen Depth (mm)', 'Sex'])\n",
    "X2_train.head()"
   ]
  },
  {
   "cell_type": "markdown",
   "metadata": {
    "cell_id": "8f2eb23a-21dc-42e9-81fc-8191ff040a7f",
    "deepnote_cell_height": 209.1875,
    "deepnote_cell_type": "markdown",
    "tags": []
   },
   "source": [
    "Our second task is to determine the best complexity parameter for our K-Nearest Neighbor model, the N neighbors. Using a similar approach as seen with our automated feature classification, we will try and iterate through a series of N_neighbours (from 1 to 10), and use whichever one yields the highest cross validation score."
   ]
  },
  {
   "cell_type": "code",
   "execution_count": 245,
   "metadata": {
    "cell_id": "00075-3927259c-04d4-441a-bff4-8e90d06659b1",
    "deepnote_cell_height": 731,
    "deepnote_cell_type": "code",
    "deepnote_output_heights": [
     null,
     336
    ],
    "deepnote_to_be_reexecuted": false,
    "execution_millis": 819,
    "execution_start": 1646806035988,
    "scrolled": false,
    "source_hash": "ce517cb9"
   },
   "outputs": [
    {
     "name": "stdout",
     "output_type": "stream",
     "text": [
      "Best parameter: 1; Has CV score of 0.9814814814814815\n"
     ]
    },
    {
     "data": {
      "image/png": "[encoded data removed]",
      "text/plain": [
       "<Figure size 432x360 with 1 Axes>"
      ]
     },
     "metadata": {
      "needs_background": "light"
     },
     "output_type": "display_data"
    }
   ],
   "source": [
    "# finding the best possible n neighbor for our model\n",
    "best_parameter(X2_train, y2_train, KN)"
   ]
  },
  {
   "cell_type": "markdown",
   "metadata": {
    "cell_id": "69037a55-c9ac-4931-9850-7296bf2e2181",
    "deepnote_cell_height": 119.5625,
    "deepnote_cell_type": "markdown",
    "tags": []
   },
   "source": [
    "As illustrated above, the optimal N_neighbor seems to be 1 as it has the highest cross validation score. Hence, we will be using that in our model."
   ]
  },
  {
   "cell_type": "markdown",
   "metadata": {
    "cell_id": "e8fc828a-390c-4cd5-bf74-79cbd8f9ce67",
    "deepnote_cell_height": 119.5625,
    "deepnote_cell_type": "markdown",
    "tags": []
   },
   "source": [
    "Our next task, and the most important, is to fit the model on our training data and evaluating its performance on the test data. We will do that below."
   ]
  },
  {
   "cell_type": "code",
   "execution_count": 223,
   "metadata": {
    "cell_id": "00076-0da89052-5b6a-4ef8-b682-3cd48cd59429",
    "deepnote_cell_height": 154.1875,
    "deepnote_cell_type": "code",
    "deepnote_output_heights": [
     21.1875
    ],
    "deepnote_to_be_reexecuted": false,
    "execution_millis": 19,
    "execution_start": 1646806036825,
    "source_hash": "b6d8c9bd"
   },
   "outputs": [
    {
     "data": {
      "text/plain": [
       "0.9692307692307692"
      ]
     },
     "execution_count": 223,
     "metadata": {},
     "output_type": "execute_result"
    }
   ],
   "source": [
    "# fitting the model on the training dataset and\n",
    "# seeing its performance on the testing data\n",
    "KN = KNeighborsClassifier(n_neighbors = 1)\n",
    "KN.fit(X2_train, y2_train) \n",
    "KN.score(X2_test, y2_test)"
   ]
  },
  {
   "cell_type": "markdown",
   "metadata": {
    "cell_id": "7d874818-04be-4f6f-b9ff-99b5dd7e9c1e",
    "deepnote_cell_height": 186.765625,
    "deepnote_cell_type": "markdown",
    "tags": []
   },
   "source": [
    "It looks like our random forest model's performance on the test data was 96.9%. This means it was able to correctly classify the species of penguin 96.9 percent of the time! For the vast majority of penguins in our testing dataset, it was correctly able to identify the species."
   ]
  },
  {
   "cell_type": "markdown",
   "metadata": {
    "cell_id": "55f85f18-92a9-4dcd-afb9-5802184ef209",
    "deepnote_cell_height": 97.1875,
    "deepnote_cell_type": "markdown",
    "tags": []
   },
   "source": [
    "However, it is important that we understand where our model went wrong. We will first use a confusion matrix to do this."
   ]
  },
  {
   "cell_type": "code",
   "execution_count": 224,
   "metadata": {
    "cell_id": "00079-a48cbb5d-c4c8-4c57-ac4d-cbaeb4b0d3c9",
    "deepnote_cell_height": 210.578125,
    "deepnote_cell_type": "code",
    "deepnote_output_heights": [
     59.59375
    ],
    "deepnote_to_be_reexecuted": false,
    "execution_millis": 210,
    "execution_start": 1646806084145,
    "source_hash": "c8a1302a"
   },
   "outputs": [
    {
     "data": {
      "text/plain": [
       "<AxesSubplot:xlabel='Predicted Value', ylabel='Actual Value'>"
      ]
     },
     "execution_count": 224,
     "metadata": {},
     "output_type": "execute_result"
    },
    {
     "data": {
      "image/png": "[encoded data removed]",
      "text/plain": [
       "<Figure size 432x288 with 2 Axes>"
      ]
     },
     "metadata": {
      "needs_background": "light"
     },
     "output_type": "display_data"
    }
   ],
   "source": [
    "# creating confusion matrix\n",
    "cm(KN, X2_test, y2_test)"
   ]
  },
  {
   "cell_type": "markdown",
   "metadata": {
    "cell_id": "ae1511f5-2d10-4954-a849-eb0fc72a12af",
    "deepnote_cell_height": 326.765625,
    "deepnote_cell_type": "markdown",
    "tags": []
   },
   "source": [
    "Looking at the confusion matrix above, the diagonal are the penguins where the species was correctly identified. Most of the non diaganol values (the mistakes) are 0, except for 1, where there is two values of one. This indicates there were two penguins that was incorrectly classified as some other species.\n",
    "\n",
    "We can visualize this by creating a decision region plot to visualize what the model \"saw\" when analzying the data.\n",
    "\n",
    "First, let us look at what the model saw on the training data."
   ]
  },
  {
   "cell_type": "code",
   "execution_count": 280,
   "metadata": {
    "cell_id": "00077-e1b832ea-7a9b-40b2-93e0-7b1c36a38adf",
    "deepnote_cell_height": 451,
    "deepnote_cell_type": "code",
    "deepnote_output_heights": [
     354
    ],
    "deepnote_to_be_reexecuted": false,
    "execution_millis": 23535,
    "execution_start": 1646806036846,
    "source_hash": "75ba169b"
   },
   "outputs": [
    {
     "data": {
      "image/png": "[encoded data removed]",
      "text/plain": [
       "<Figure size 1080x504 with 2 Axes>"
      ]
     },
     "metadata": {
      "needs_background": "light"
     },
     "output_type": "display_data"
    }
   ],
   "source": [
    "# decision region for training data\n",
    "plot_regions(KN, X2_train, y2_train, ['Culmen Length (mm)', 'Culmen Depth (mm)'])"
   ]
  },
  {
   "cell_type": "markdown",
   "metadata": {
    "cell_id": "b1b68f13-caf9-4ad1-ab13-ff6311731346",
    "deepnote_cell_height": 142,
    "deepnote_cell_type": "markdown",
    "tags": []
   },
   "source": [
    "The model did a pretty good job of correctly classifying the training data. All penguins are in their respective color regions. \n",
    "Let us now look at the decision regions for the testing data. In order to find our mistakes, we must look further at the testing data."
   ]
  },
  {
   "cell_type": "code",
   "execution_count": 281,
   "metadata": {
    "cell_id": "00078-784a0840-b423-432f-aff3-dae7f4a2a907",
    "deepnote_cell_height": 451,
    "deepnote_cell_type": "code",
    "deepnote_output_heights": [
     354
    ],
    "deepnote_to_be_reexecuted": false,
    "execution_millis": 23962,
    "execution_start": 1646806060390,
    "scrolled": false,
    "source_hash": "b801a905"
   },
   "outputs": [
    {
     "data": {
      "image/png": "[encoded data removed]",
      "text/plain": [
       "<Figure size 1080x504 with 2 Axes>"
      ]
     },
     "metadata": {
      "needs_background": "light"
     },
     "output_type": "display_data"
    }
   ],
   "source": [
    "# decision region for testing data\n",
    "plot_regions(KN, X2_test, y2_test, ['Culmen Length (mm)', 'Culmen Depth (mm)'])"
   ]
  },
  {
   "cell_type": "markdown",
   "metadata": {
    "cell_id": "f85860b1-5365-4e49-91f0-39998b98153a",
    "deepnote_cell_height": 268,
    "deepnote_cell_type": "markdown",
    "tags": []
   },
   "source": [
    "Looking at the decision region plots above, this validates what we saw in the confusion matrix. In the testing data, it looks like one female chinstrap penguin was incorrectly labelled as an Adelie Penguin (the green dot in the blue region). One Male Adelie penguin was incorrectly labelled as an Chinstrap Penguin (the blue dot in the green region). This may be due to having similar measurements to another species. All Gentoo penguins was classified correctly, which may be due to their lower culmen depths than other species. \n",
    "\n",
    "\n",
    "We then made a table to look at these incorrectly labelled penguins and their values."
   ]
  },
  {
   "cell_type": "code",
   "execution_count": 242,
   "metadata": {
    "cell_id": "00080-380e6ab2-775a-4668-b7e6-1b9f03400fcc",
    "deepnote_cell_height": 219,
    "deepnote_cell_type": "code",
    "deepnote_to_be_reexecuted": false,
    "execution_millis": 167,
    "execution_start": 1646806084189,
    "source_hash": "931a4316"
   },
   "outputs": [
    {
     "data": {
      "text/html": [
       "<div>\n",
       "<style scoped>\n",
       "    .dataframe tbody tr th:only-of-type {\n",
       "        vertical-align: middle;\n",
       "    }\n",
       "\n",
       "    .dataframe tbody tr th {\n",
       "        vertical-align: top;\n",
       "    }\n",
       "\n",
       "    .dataframe thead th {\n",
       "        text-align: right;\n",
       "    }\n",
       "</style>\n",
       "<table border=\"1\" class=\"dataframe\">\n",
       "  <thead>\n",
       "    <tr style=\"text-align: right;\">\n",
       "      <th></th>\n",
       "      <th>Culmen Length (mm)</th>\n",
       "      <th>Culmen Depth (mm)</th>\n",
       "      <th>Sex</th>\n",
       "      <th>Actual Species</th>\n",
       "      <th>Predicted Species</th>\n",
       "    </tr>\n",
       "  </thead>\n",
       "  <tbody>\n",
       "    <tr>\n",
       "      <th>182</th>\n",
       "      <td>40.9</td>\n",
       "      <td>16.6</td>\n",
       "      <td>F</td>\n",
       "      <td>Chinstrap</td>\n",
       "      <td>Adelie</td>\n",
       "    </tr>\n",
       "    <tr>\n",
       "      <th>73</th>\n",
       "      <td>45.8</td>\n",
       "      <td>18.9</td>\n",
       "      <td>M</td>\n",
       "      <td>Adelie</td>\n",
       "      <td>Chinstrap</td>\n",
       "    </tr>\n",
       "  </tbody>\n",
       "</table>\n",
       "</div>"
      ],
      "text/plain": [
       "     Culmen Length (mm)  Culmen Depth (mm) Sex Actual Species  \\\n",
       "182                40.9               16.6   F      Chinstrap   \n",
       "73                 45.8               18.9   M         Adelie   \n",
       "\n",
       "    Predicted Species  \n",
       "182            Adelie  \n",
       "73          Chinstrap  "
      ]
     },
     "execution_count": 242,
     "metadata": {},
     "output_type": "execute_result"
    }
   ],
   "source": [
    "# creating table of errors\n",
    "error_table(X2_test, y2_test, KN)"
   ]
  },
  {
   "cell_type": "markdown",
   "metadata": {
    "cell_id": "e051b20d-e3e3-4d44-ac29-9c0aa0a82c33",
    "deepnote_cell_height": 276.375,
    "deepnote_cell_type": "markdown",
    "tags": []
   },
   "source": [
    "Interestingly, the K-Nearest neighbors model incorrectly predicted the species of Penguin 182 (the same female Chinstrap penguin that was incorrectly labelled when we used the random forest model). For this penguin, as mentioned in the random forest model, its culmen length resembles that of an Adelie penguin. With regards to culmen depth, the average culmen depth for both female Chinstraps (17.6 mm) and female Adelie penguins (17.5 mm) is very similar. So the model couldn't use this feature in order to correctly classify this female Chinstrap penguin. \n",
    "The male Adelie has a culmen length of 45.8 mm. This seems to be much higher than the average male Adelie penguin culmen length of 40.3 mm, and is closer to the male Chinstrap culmen length of 51 mm. Also, male Adelie and male Chinstrap penguins have  similar average culmen depth (19 mm and 19.2 mm, respectively). So the model couldn't use this to differentiate and classify this penguin correctly. \n",
    "We can see from this analysis that while the culmen depth was very useful for classifying the Gentoo penguins (they have lower culmen depth), it did cause some confusion between Adelie and Chinstrap penguins. "
   ]
  },
  {
   "cell_type": "markdown",
   "metadata": {
    "cell_id": "00081-c0faa1a0-1ba8-4980-abc9-789ac267bbfb",
    "deepnote_cell_height": 62,
    "deepnote_cell_type": "markdown"
   },
   "source": [
    "### Part 3: Support Vector Machines"
   ]
  },
  {
   "cell_type": "markdown",
   "metadata": {
    "cell_id": "06900259-d725-415c-abd2-32d2f977fdea",
    "deepnote_cell_height": 209.1875,
    "deepnote_cell_type": "markdown",
    "tags": []
   },
   "source": [
    "We will use Support Vector Machines model as our third model.The objective of the support vector machine algorithm is to find a hyperplane in an N-dimensional space(N — the number of features) that distinctly classifies the data points.\n",
    "We will be using Sex, Culmen Length, and Culmen Depth to try and predict the species of a penguin."
   ]
  },
  {
   "cell_type": "markdown",
   "metadata": {
    "cell_id": "0ecdd187-5d0c-4ddf-afdc-31ff765a616d",
    "deepnote_cell_height": 254,
    "deepnote_cell_type": "markdown",
    "tags": []
   },
   "source": [
    "Our first task is to prepare the train and the test data for modeling. Using the prep function introduced above, qualitative variables are encoded and the dataframe is filtered to have only the variables we need for this model. Both the training and testing data are split into X and y, where X being the predictor variables (Sex, Culmen Length, and Culmen Depth) and y being what we are trying to predict."
   ]
  },
  {
   "cell_type": "code",
   "execution_count": 228,
   "metadata": {
    "cell_id": "00082-5f9db804-8bab-4f3a-9901-4396fc7b45bc",
    "deepnote_cell_height": 378,
    "deepnote_cell_type": "code",
    "deepnote_to_be_reexecuted": false,
    "execution_millis": 156,
    "execution_start": 1646806084200,
    "source_hash": "5fa817ed"
   },
   "outputs": [
    {
     "data": {
      "text/html": [
       "<div>\n",
       "<style scoped>\n",
       "    .dataframe tbody tr th:only-of-type {\n",
       "        vertical-align: middle;\n",
       "    }\n",
       "\n",
       "    .dataframe tbody tr th {\n",
       "        vertical-align: top;\n",
       "    }\n",
       "\n",
       "    .dataframe thead th {\n",
       "        text-align: right;\n",
       "    }\n",
       "</style>\n",
       "<table border=\"1\" class=\"dataframe\">\n",
       "  <thead>\n",
       "    <tr style=\"text-align: right;\">\n",
       "      <th></th>\n",
       "      <th>Culmen Length (mm)</th>\n",
       "      <th>Culmen Depth (mm)</th>\n",
       "      <th>Sex</th>\n",
       "    </tr>\n",
       "  </thead>\n",
       "  <tbody>\n",
       "    <tr>\n",
       "      <th>154</th>\n",
       "      <td>51.3</td>\n",
       "      <td>19.2</td>\n",
       "      <td>1</td>\n",
       "    </tr>\n",
       "    <tr>\n",
       "      <th>99</th>\n",
       "      <td>43.2</td>\n",
       "      <td>18.5</td>\n",
       "      <td>1</td>\n",
       "    </tr>\n",
       "    <tr>\n",
       "      <th>254</th>\n",
       "      <td>49.1</td>\n",
       "      <td>14.8</td>\n",
       "      <td>0</td>\n",
       "    </tr>\n",
       "    <tr>\n",
       "      <th>202</th>\n",
       "      <td>48.1</td>\n",
       "      <td>16.4</td>\n",
       "      <td>0</td>\n",
       "    </tr>\n",
       "    <tr>\n",
       "      <th>54</th>\n",
       "      <td>34.5</td>\n",
       "      <td>18.1</td>\n",
       "      <td>0</td>\n",
       "    </tr>\n",
       "  </tbody>\n",
       "</table>\n",
       "</div>"
      ],
      "text/plain": [
       "     Culmen Length (mm)  Culmen Depth (mm)  Sex\n",
       "154                51.3               19.2    1\n",
       "99                 43.2               18.5    1\n",
       "254                49.1               14.8    0\n",
       "202                48.1               16.4    0\n",
       "54                 34.5               18.1    0"
      ]
     },
     "execution_count": 228,
     "metadata": {},
     "output_type": "execute_result"
    }
   ],
   "source": [
    "# preparing data for modelling using SVM\n",
    "X3_train, y3_train = prep(train, ['Species',\n",
    "                                  'Culmen Length (mm)',\n",
    "                                  'Culmen Depth (mm)', \n",
    "                                  'Sex'])\n",
    "X3_test, y3_test = prep(test, ['Species',\n",
    "                               'Culmen Length (mm)',\n",
    "                               'Culmen Depth (mm)', \n",
    "                               'Sex'])\n",
    "X3_train.head()"
   ]
  },
  {
   "cell_type": "markdown",
   "metadata": {
    "cell_id": "808fd21d-e42c-4d2a-bb82-f123d9216854",
    "deepnote_cell_height": 209.1875,
    "deepnote_cell_type": "markdown",
    "tags": []
   },
   "source": [
    "Our second task is to determine the best complexity parameter for our Support Vector Machine model, the regularization parameter or C value. Using a similar approach as seen with our automated feature classification, we will try and iterate through a series of C value (from 1 to 10), and use whichever one yields the highest cross validation score."
   ]
  },
  {
   "cell_type": "code",
   "execution_count": 237,
   "metadata": {
    "cell_id": "00083-baea9d64-218d-4b94-a9ef-f2c301decad2",
    "deepnote_cell_height": 730,
    "deepnote_cell_type": "code",
    "deepnote_output_heights": [
     null,
     335
    ],
    "deepnote_to_be_reexecuted": false,
    "execution_millis": 700,
    "execution_start": 1646806084259,
    "source_hash": "3a7db244"
   },
   "outputs": [
    {
     "name": "stdout",
     "output_type": "stream",
     "text": [
      "Best parameter: 9; Has CV score of 0.9701607267645003\n"
     ]
    },
    {
     "data": {
      "image/png": "[encoded data removed]",
      "text/plain": [
       "<Figure size 432x360 with 1 Axes>"
      ]
     },
     "metadata": {
      "needs_background": "light"
     },
     "output_type": "display_data"
    }
   ],
   "source": [
    "# finding best regularization parameter, C\n",
    "best_parameter(X3_train, y3_train, SVM)"
   ]
  },
  {
   "cell_type": "markdown",
   "metadata": {
    "cell_id": "ca37911a-ff48-4de3-ac53-0ec46bf33fb2",
    "deepnote_cell_height": 223.1875,
    "deepnote_cell_type": "markdown",
    "tags": []
   },
   "source": [
    "As illustrated above, the optimal C value seems to be 9 as it has the highest cross validation score. Hence, we will be using that in our model.\n",
    "\n",
    "Our next task, and the most important, is to fit the model on our training data and evaluating its performance on the test data. We will do that below."
   ]
  },
  {
   "cell_type": "code",
   "execution_count": 230,
   "metadata": {
    "cell_id": "00084-37aad7ef-26e2-4ce9-afd1-f92a5dbc619a",
    "deepnote_cell_height": 154.1875,
    "deepnote_cell_type": "code",
    "deepnote_output_heights": [
     21.1875
    ],
    "deepnote_to_be_reexecuted": false,
    "execution_millis": 8,
    "execution_start": 1646806084971,
    "source_hash": "eabce0a6"
   },
   "outputs": [
    {
     "data": {
      "text/plain": [
       "0.9384615384615385"
      ]
     },
     "execution_count": 230,
     "metadata": {},
     "output_type": "execute_result"
    }
   ],
   "source": [
    "# using best C value for our SVM model\n",
    "SVM = svm.SVC(C = 9)\n",
    "# fitting it on training data\n",
    "SVM.fit(X3_train, y3_train) \n",
    "# evaluating performance on testing data\n",
    "SVM.score(X3_test, y3_test)"
   ]
  },
  {
   "cell_type": "markdown",
   "metadata": {
    "cell_id": "20f4aeb9-fbce-4ab2-a427-6fef6247ef23",
    "deepnote_cell_height": 268,
    "deepnote_cell_type": "markdown",
    "tags": []
   },
   "source": [
    "It looks like our random forest model's performance on the test data was 93.8%. This means it was able to correctly classify the species of penguin 93.8 percent of the time! For the vast majority of penguins in our testing dataset, it was correctly able to identify the species.\n",
    "\n",
    "However, it is important that we understand where our model went wrong. We will first use a confusion matrix to do this."
   ]
  },
  {
   "cell_type": "code",
   "execution_count": 231,
   "metadata": {
    "cell_id": "00087-62e197ae-7b68-465a-ab6a-13f4dbffc5e0",
    "deepnote_cell_height": 210.578125,
    "deepnote_cell_type": "code",
    "deepnote_output_heights": [
     59.59375
    ],
    "deepnote_to_be_reexecuted": false,
    "execution_millis": 7,
    "execution_start": 1646806093253,
    "source_hash": "243d33a7"
   },
   "outputs": [
    {
     "data": {
      "text/plain": [
       "<AxesSubplot:xlabel='Predicted Value', ylabel='Actual Value'>"
      ]
     },
     "execution_count": 231,
     "metadata": {},
     "output_type": "execute_result"
    },
    {
     "data": {
      "image/png": "[encoded data removed]",
      "text/plain": [
       "<Figure size 432x288 with 2 Axes>"
      ]
     },
     "metadata": {
      "needs_background": "light"
     },
     "output_type": "display_data"
    }
   ],
   "source": [
    "cm(SVM, X3_test, y3_test)"
   ]
  },
  {
   "cell_type": "markdown",
   "metadata": {
    "cell_id": "1cbfc8be-ca70-4861-9b87-4e4c3c93248a",
    "deepnote_cell_height": 231.5625,
    "deepnote_cell_type": "markdown",
    "tags": []
   },
   "source": [
    "The diagonal of the matrix reprensents the numbers of correct categorization from our SVM model. And from the confusion matrix we can see there are 2+2=4 penguins we labeled incorrectly.\n",
    "We can visualize this by creating a decision region plot to visualize what the model \"saw\" when analzying the data.\n",
    "First, let us look at what the model saw on the training data."
   ]
  },
  {
   "cell_type": "code",
   "execution_count": 282,
   "metadata": {
    "cell_id": "00085-1056a0c1-5d81-469f-b7d2-2123365ac6db",
    "deepnote_cell_height": 451,
    "deepnote_cell_type": "code",
    "deepnote_output_heights": [
     354
    ],
    "deepnote_to_be_reexecuted": false,
    "execution_millis": 4379,
    "execution_start": 1646806085030,
    "source_hash": "3bfc63f4"
   },
   "outputs": [
    {
     "data": {
      "image/png": "[encoded data removed]",
      "text/plain": [
       "<Figure size 1080x504 with 2 Axes>"
      ]
     },
     "metadata": {
      "needs_background": "light"
     },
     "output_type": "display_data"
    }
   ],
   "source": [
    "# decision region for training data\n",
    "plot_regions(SVM, X3_train, y3_train, ['Culmen Length (mm)', 'Culmen Depth (mm)'])"
   ]
  },
  {
   "cell_type": "markdown",
   "metadata": {
    "cell_id": "72dda759-0c92-46a5-9a49-18fbc3d49aa1",
    "deepnote_cell_height": 186.765625,
    "deepnote_cell_type": "markdown",
    "tags": []
   },
   "source": [
    "The model did a pretty decent job of correctly classifying the training data; albeit with more errors than the previous two models. The model does seem to have a little bit of a hard time differentiating between Chinstrap and Adelie penguins, as illustrated by the how there are blue dots in the green region and green dots in the blue region. "
   ]
  },
  {
   "cell_type": "code",
   "execution_count": 283,
   "metadata": {
    "cell_id": "00086-c79d63fc-b58b-4c95-ae8b-236c0e18ceb2",
    "deepnote_cell_height": 451,
    "deepnote_cell_type": "code",
    "deepnote_output_heights": [
     354
    ],
    "deepnote_to_be_reexecuted": false,
    "execution_millis": 4049,
    "execution_start": 1646806089193,
    "source_hash": "1fd4691a"
   },
   "outputs": [
    {
     "data": {
      "image/png": "[encoded data removed]",
      "text/plain": [
       "<Figure size 1080x504 with 2 Axes>"
      ]
     },
     "metadata": {
      "needs_background": "light"
     },
     "output_type": "display_data"
    }
   ],
   "source": [
    "# decision region for testing data\n",
    "plot_regions(SVM, X3_test, y3_test, ['Culmen Length (mm)', 'Culmen Depth (mm)'])"
   ]
  },
  {
   "cell_type": "markdown",
   "metadata": {
    "cell_id": "f95726f1-0447-473c-9daa-871fc1987257",
    "deepnote_cell_height": 97.1875,
    "deepnote_cell_type": "markdown",
    "tags": []
   },
   "source": [
    "Looking at the decision region plots above, this validates what we saw in the plots for the training data. There are 2 female Chinstrap penguins mistakenly labelled as Adelie penguins, and there are two male Adelie penguins misclassified as Chinstrap penguins. "
   ]
  },
  {
   "cell_type": "code",
   "execution_count": 244,
   "metadata": {
    "cell_id": "00088-6e3ff29a-2379-4322-bf56-fb3a3b7e80d7",
    "deepnote_cell_height": 301,
    "deepnote_cell_type": "code",
    "deepnote_to_be_reexecuted": false,
    "execution_millis": 39,
    "execution_start": 1646806093262,
    "scrolled": false,
    "source_hash": "b864ebce"
   },
   "outputs": [
    {
     "data": {
      "text/html": [
       "<div>\n",
       "<style scoped>\n",
       "    .dataframe tbody tr th:only-of-type {\n",
       "        vertical-align: middle;\n",
       "    }\n",
       "\n",
       "    .dataframe tbody tr th {\n",
       "        vertical-align: top;\n",
       "    }\n",
       "\n",
       "    .dataframe thead th {\n",
       "        text-align: right;\n",
       "    }\n",
       "</style>\n",
       "<table border=\"1\" class=\"dataframe\">\n",
       "  <thead>\n",
       "    <tr style=\"text-align: right;\">\n",
       "      <th></th>\n",
       "      <th>Culmen Length (mm)</th>\n",
       "      <th>Culmen Depth (mm)</th>\n",
       "      <th>Sex</th>\n",
       "      <th>Actual Species</th>\n",
       "      <th>Predicted Species</th>\n",
       "    </tr>\n",
       "  </thead>\n",
       "  <tbody>\n",
       "    <tr>\n",
       "      <th>184</th>\n",
       "      <td>42.5</td>\n",
       "      <td>16.7</td>\n",
       "      <td>F</td>\n",
       "      <td>Chinstrap</td>\n",
       "      <td>Adelie</td>\n",
       "    </tr>\n",
       "    <tr>\n",
       "      <th>182</th>\n",
       "      <td>40.9</td>\n",
       "      <td>16.6</td>\n",
       "      <td>F</td>\n",
       "      <td>Chinstrap</td>\n",
       "      <td>Adelie</td>\n",
       "    </tr>\n",
       "    <tr>\n",
       "      <th>19</th>\n",
       "      <td>46.0</td>\n",
       "      <td>21.5</td>\n",
       "      <td>M</td>\n",
       "      <td>Adelie</td>\n",
       "      <td>Chinstrap</td>\n",
       "    </tr>\n",
       "    <tr>\n",
       "      <th>73</th>\n",
       "      <td>45.8</td>\n",
       "      <td>18.9</td>\n",
       "      <td>M</td>\n",
       "      <td>Adelie</td>\n",
       "      <td>Chinstrap</td>\n",
       "    </tr>\n",
       "  </tbody>\n",
       "</table>\n",
       "</div>"
      ],
      "text/plain": [
       "     Culmen Length (mm)  Culmen Depth (mm) Sex Actual Species  \\\n",
       "184                42.5               16.7   F      Chinstrap   \n",
       "182                40.9               16.6   F      Chinstrap   \n",
       "19                 46.0               21.5   M         Adelie   \n",
       "73                 45.8               18.9   M         Adelie   \n",
       "\n",
       "    Predicted Species  \n",
       "184            Adelie  \n",
       "182            Adelie  \n",
       "19          Chinstrap  \n",
       "73          Chinstrap  "
      ]
     },
     "execution_count": 244,
     "metadata": {},
     "output_type": "execute_result"
    }
   ],
   "source": [
    "# creating a table of errors\n",
    "error_table(X3_test, y3_test, SVM)"
   ]
  },
  {
   "cell_type": "markdown",
   "metadata": {
    "cell_id": "530b24b1-f23b-4b54-b86e-a9c4e842390e",
    "deepnote_cell_height": 142,
    "deepnote_cell_type": "markdown",
    "tags": []
   },
   "source": [
    "For the support vector machines model, we think the errors were caused for similar reasons as the K-Nearest neighbors model. Penguins 182 and 73 were also mislabelled in the K-Nearest Neighbors model, which is one thing we observed. In the case of these two penguins, their culmen lengths more closely resembled Adelie penguins, and the culmen depth was not as good of a feature to differntiate between Chinstrap and Adelie penguins. For penguins 19 and 73, two Adelie male penguins misclassified as chinstrap penguins, we think this is due to how their culmen lengths are higher than that of average male Adelie penguins (40.3 mm) and closer to that of male Chinstrap penguins (average of 51 mm). "
   ]
  },
  {
   "cell_type": "markdown",
   "metadata": {
    "cell_id": "00089-9c6e4825-bf45-42d7-a5c7-269ade5a51d4",
    "deepnote_cell_height": 70,
    "deepnote_cell_type": "markdown"
   },
   "source": [
    "## Section 4: Discussion"
   ]
  },
  {
   "cell_type": "markdown",
   "metadata": {
    "cell_id": "00090-12f2d276-736f-481b-96c6-eb75eb00e43a",
    "deepnote_cell_height": 615.1875,
    "deepnote_cell_type": "markdown"
   },
   "source": [
    "The purpose of this project was to accurately classify the species of a penguin from the Palmer penguins dataset. When looking at our models, the Random Forest classifier with use of the features sex, culmen length, and body mass, did the best in accurately classifying the species of penguin, as it was able to do so 98.4% of the time. The K-Nearest Neigbors model with the use of the features sex, culmen length, and culmen depth did the second best, with 96.9% of penguins in the testing dataset having their species correctly identified. The Support Vector Machine model with use of features sex, culmen length, and culmen depth did the worst, with 93.9% of penguins having their species correctly identified. Overall, these are relatively good results as our models were correctly able to identify the species of penguin most of the time. \n",
    "\n",
    "As such, we would recommend the Random Forest classifier with a max depth of 5 with the features sex, culmen length, and body mass as this was able to most accurately predict the species of penguin. \n",
    "\n",
    "A possible reason for Random Forest performing better is because this method decorrelates the trees with the introduction of splitting on a random subset of features. As a result, we have a split tree that considers only a small subset of features. The decorrelation is important because it separates each tree from the features' respective errors. Each tree of a Random Forest is trained with different sets of data, which allows the different features to make decisions. Overall, since it is an ensemble \"average\" prediction from multiple different decision trees, the error is minimized. \n",
    "\n",
    "The performance of the K-Nearest-Neighbors (KNN) was also quite good. This could be explained by the fact that K-Nearest Neighbors assumes that similar things exist in close proximity, which makes it a good method for dealing with the different classification of penguins. \n",
    "\n",
    "Out of the three, Support Vector Machines (SVM) performed quite poorly relatively speaking. This is probably due to SVM not doing well when target classes are overlapping, which have resulted in the confusion the model made in determining whether a penguin was an Adelie or Chinstrap, since they have similar feature values. \n",
    "\n",
    "The performance on our models could be improved with better data. We found that most of the mistakes that the models made were Adelie penguins being classified as Chinstrap penguins and vice-versa. Hence, more data that could differentiate between these two species would improve our model’s performance. This could entail collecting more data on things like culmen length, culmen depth, and body mass for Adelie and Chinstrap penguins so that a more representative sample is created. Our models could then potentially \"see\" the differences between Adelie and Chinstrap penguins in a clearer manner. For example, right now, our data suggests Adelie and Chinstrap penguins have relatively similar culmen depths; more data collected on this feature could potentially show that they could have more different culmen depths. One other way would be to collect data on some feature that is very different between Adelie and Chinstrap penguins. This would be an excellent way to better predict the species of penguin as it would allow the model to see a huge difference between Adelie and Chinstrap penguins. We already saw this \"in action\" somewhat with Gentoo penguins as they had a very high body mass but lower culmen depth when compared to other species, allowing for all three of our models to correctly classify all of them. \n",
    "\n",
    "Also, of the total mistakes our models made (7 in total, 1 in Random Forest, 2 in KNN, and 4 in SVM), 4 involved female penguins, a majority. This indicates that there might be some bias in the Palmer Penguins dataset as there seems to be more data for male penguins. Having more data for female penguins would allow the model to better classify the species of penguin for females. \n",
    "\n",
    "\n",
    "To conclude, our models did a pretty good job of correctly labelling the species of penguin; however, better data could always improve the accuracy of our models. "
   ]
  }
 ],
 "metadata": {
  "colab": {
   "name": "Penguins Project",
   "provenance": []
  },
  "deepnote": {},
  "deepnote_execution_queue": [],
  "deepnote_notebook_id": "ed3c687a-22ed-4080-a4f9-52971ea7b86e",
  "kernelspec": {
   "display_name": "Python 3",
   "language": "python",
   "name": "python3"
  },
  "language_info": {
   "codemirror_mode": {
    "name": "ipython",
    "version": 3
   },
   "file_extension": ".py",
   "mimetype": "text/x-python",
   "name": "python",
   "nbconvert_exporter": "python",
   "pygments_lexer": "ipython3",
   "version": "3.8.8"
  }
 },
 "nbformat": 4,
 "nbformat_minor": 1
}
